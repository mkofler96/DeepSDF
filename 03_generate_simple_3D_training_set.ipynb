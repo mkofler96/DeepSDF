{
 "cells": [
  {
   "cell_type": "code",
   "execution_count": null,
   "id": "850ba957-903d-495c-8b7e-96176069cfba",
   "metadata": {},
   "outputs": [],
   "source": [
    "import numpy as np\n",
    "import gustaf as gus\n",
    "import vedo\n",
    "from src.plotting import scatter_contour_at_z_level\n",
    "from sdf_sampler import sdf_sampler\n",
    "\n",
    "outdir = \"data/SdfSamples\"\n",
    "splitdir = \"data/splits\"\n",
    "sdf_sampler = sdf_sampler.SDFSampler(outdir, splitdir)\n",
    "# microstructure = box(2) - cylinder(0.3) \n",
    "microstructure = sphere(1.3) & box(3)\n",
    "\n",
    "c = cylinder(0.5)\n",
    "microstructure -= c.orient(X) | c.orient(Y) | c.orient(Z)\n",
    "scatter_contour_at_z_level(microstructure)"
   ]
  }
 ],
 "metadata": {
  "kernelspec": {
   "display_name": "Python 3 (ipykernel)",
   "language": "python",
   "name": "python3"
  },
  "language_info": {
   "codemirror_mode": {
    "name": "ipython",
    "version": 3
   },
   "file_extension": ".py",
   "mimetype": "text/x-python",
   "name": "python",
   "nbconvert_exporter": "python",
   "pygments_lexer": "ipython3",
   "version": "3.10.14"
  }
 },
 "nbformat": 4,
 "nbformat_minor": 5
}

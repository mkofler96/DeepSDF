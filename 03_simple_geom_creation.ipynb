{
 "cells": [
  {
   "cell_type": "code",
   "execution_count": 1,
   "metadata": {},
   "outputs": [
    {
     "ename": "ModuleNotFoundError",
     "evalue": "No module named 'gustaf'",
     "output_type": "error",
     "traceback": [
      "\u001b[0;31m---------------------------------------------------------------------------\u001b[0m",
      "\u001b[0;31mModuleNotFoundError\u001b[0m                       Traceback (most recent call last)",
      "Cell \u001b[0;32mIn[1], line 2\u001b[0m\n\u001b[1;32m      1\u001b[0m \u001b[38;5;28;01mimport\u001b[39;00m \u001b[38;5;21;01mnumpy\u001b[39;00m \u001b[38;5;28;01mas\u001b[39;00m \u001b[38;5;21;01mnp\u001b[39;00m\n\u001b[0;32m----> 2\u001b[0m \u001b[38;5;28;01mimport\u001b[39;00m \u001b[38;5;21;01mgustaf\u001b[39;00m \u001b[38;5;28;01mas\u001b[39;00m \u001b[38;5;21;01mgus\u001b[39;00m\n\u001b[1;32m      3\u001b[0m \u001b[38;5;28;01mimport\u001b[39;00m \u001b[38;5;21;01mvedo\u001b[39;00m\n\u001b[1;32m      4\u001b[0m \u001b[38;5;28;01mfrom\u001b[39;00m \u001b[38;5;21;01msdf_sampler\u001b[39;00m\u001b[38;5;21;01m.\u001b[39;00m\u001b[38;5;21;01mplotting\u001b[39;00m \u001b[38;5;28;01mimport\u001b[39;00m scatter_contour_at_z_level\n",
      "\u001b[0;31mModuleNotFoundError\u001b[0m: No module named 'gustaf'"
     ]
    }
   ],
   "source": [
    "import numpy as np\n",
    "import gustaf as gus\n",
    "import vedo\n",
    "from sdf_sampler.plotting import scatter_contour_at_z_level\n",
    "from sdf_sampler import sdf_sampler\n",
    "from sdf_sampler.cross_ms_sdf import CrossMsSDF\n",
    "\n",
    "outdir = \"data/SdfSamples\"\n",
    "splitdir = \"data/splits\"\n",
    "sdf_sampler = sdf_sampler.SDFSampler(outdir, splitdir)"
   ]
  },
  {
   "cell_type": "code",
   "execution_count": null,
   "metadata": {},
   "outputs": [],
   "source": [
    "sdf = CrossMsSDF(0.8).SDF\n",
    "sdf(np.array([[1,1,1]]))"
   ]
  },
  {
   "cell_type": "code",
   "execution_count": null,
   "metadata": {},
   "outputs": [],
   "source": [
    "scatter_contour_at_z_level(sdf, z_level=1)"
   ]
  },
  {
   "cell_type": "code",
   "execution_count": null,
   "metadata": {
    "tags": []
   },
   "outputs": [],
   "source": [
    "import vedo\n",
    "vedo.settings.default_backend = 'k3d'\n",
    "\n",
    "dataset_info = {\n",
    "    \"dataset_name\": \"test_set\",\n",
    "    \"class_name\": \"microstructure\"}\n",
    "training_split_info = sdf_sampler.sample_sdfs([CrossMsSDF(r).SDF for r in np.linspace(0.1, 0.4, 20)], dataset_info, n_samples=1e5, sampling_strategy=\"uniform\", show=True)\n",
    "sdf_sampler.write_json(\"microstructure_train.json\", dataset_info, training_split_info)"
   ]
  }
 ],
 "metadata": {
  "kernelspec": {
   "display_name": "Python 3 (ipykernel)",
   "language": "python",
   "name": "python3"
  },
  "language_info": {
   "codemirror_mode": {
    "name": "ipython",
    "version": 3
   },
   "file_extension": ".py",
   "mimetype": "text/x-python",
   "name": "python",
   "nbconvert_exporter": "python",
   "pygments_lexer": "ipython3",
   "version": "3.10.14"
  }
 },
 "nbformat": 4,
 "nbformat_minor": 4
}

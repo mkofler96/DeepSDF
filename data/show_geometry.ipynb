{
 "cells": [
  {
   "cell_type": "code",
   "execution_count": 1,
   "metadata": {},
   "outputs": [
    {
     "data": {
      "application/vnd.jupyter.widget-view+json": {
       "model_id": "7da1bd22d7624bbebeeb41fc9bb050e6",
       "version_major": 2,
       "version_minor": 0
      },
      "text/plain": [
       "K3DPlotterN(children=(Plot(antialias=True, axes=['x', 'y', 'z'], axes_helper=1.0, axes_helper_colors=[16711680…"
      ]
     },
     "metadata": {},
     "output_type": "display_data"
    }
   ],
   "source": [
    "import gustaf as gus\n",
    "import vedo\n",
    "vedo.settings.default_backend=\"k3d\"\n",
    "mesh = gus.io.meshio.load(\"geometry/double_lattice/0_double_lattice_0_01_0_01.ply\")\n",
    "gus.show(mesh, axes=1)"
   ]
  },
  {
   "cell_type": "code",
   "execution_count": 2,
   "metadata": {},
   "outputs": [
    {
     "name": "stdout",
     "output_type": "stream",
     "text": [
      "sampling takes: 0.496070\n",
      "sampling takes: 0.541606\n",
      "sampling takes: 0.402030\n",
      "sampling takes: 0.409700\n"
     ]
    },
    {
     "data": {
      "application/vnd.jupyter.widget-view+json": {
       "model_id": "d1c4f053c11f4e808e5a84c240c85982",
       "version_major": 2,
       "version_minor": 0
      },
      "text/plain": [
       "K3DPlotterN(children=(Plot(antialias=True, axes=['x', 'y', 'z'], axes_helper=1.0, axes_helper_colors=[16711680…"
      ]
     },
     "metadata": {},
     "output_type": "display_data"
    }
   ],
   "source": [
    "import deep_sdf.plotting\n",
    "experiment_directory = \"../experiments/double_lattice_3D_small_network\"\n",
    "data_dir = \"..\"\n",
    "deep_sdf.plotting.show_random_training_files(experiment_directory, data_dir, 4, \"1000\")"
   ]
  }
 ],
 "metadata": {
  "kernelspec": {
   "display_name": "pytorch",
   "language": "python",
   "name": "python3"
  },
  "language_info": {
   "codemirror_mode": {
    "name": "ipython",
    "version": 3
   },
   "file_extension": ".py",
   "mimetype": "text/x-python",
   "name": "python",
   "nbconvert_exporter": "python",
   "pygments_lexer": "ipython3",
   "version": "3.9.19"
  }
 },
 "nbformat": 4,
 "nbformat_minor": 2
}

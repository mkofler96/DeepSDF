{
 "cells": [
  {
   "cell_type": "code",
   "execution_count": 2,
   "metadata": {},
   "outputs": [
    {
     "data": {
      "image/png": "[encoded data removed]",
      "text/plain": [
       "<Figure size 600x600 with 4 Axes>"
      ]
     },
     "metadata": {},
     "output_type": "display_data"
    }
   ],
   "source": [
    "import matplotlib.pyplot as plt\n",
    "import numpy as np\n",
    "\n",
    "\n",
    "def hor_beam_sdf(xyz, d1, d2):\n",
    "    output = np.inf * np.ones(xyz.shape[0])\n",
    "    # add x cylinder\n",
    "    cylinder = np.sqrt(xyz[:,1]**2 + xyz[:,2]**2) - d1\n",
    "    cylinder = np.abs(xyz[:,1]) - d1\n",
    "    output = np.minimum(output, cylinder)\n",
    "    # add y cylinder\n",
    "    cylinder = np.abs(xyz[:,0]) - d2\n",
    "    output = np.minimum(output, cylinder)\n",
    "    return output\n",
    "\n",
    "X, Y = np.meshgrid(np.linspace(-1, 1, 1000), np.linspace(-1, 1, 1000))\n",
    "\n",
    "\n",
    "d1v = [0.3, 0.5, 0.3, 0.3]\n",
    "d2v = [0.3, 0.3, 0.5, 0.3]\n",
    "k1 = [0.0, 0.0, 0.0, 0.05]\n",
    "k2 = [0.0, 0.0, 0.0, 0.05]\n",
    "\n",
    "fig, axs = plt.subplots(2, 2, figsize=(6, 6))\n",
    "for ax, d1v, d2v, k1, k2 in zip(axs.flatten(), d1v, d2v, k1, k2):\n",
    "    r1 = (d1v+(X+1)**2*k1).flatten()\n",
    "    r2 = (d2v+(Y+1)**2*k2).flatten()\n",
    "\n",
    "    Z = hor_beam_sdf(np.array([X.flatten(), Y.flatten(), np.zeros(X.size)]).T, r1, r2).reshape(X.shape)\n",
    "\n",
    "\n",
    "    ax.contourf(X, Y, Z, levels=[-2, 0, 0.00000001], colors=[\"black\", \"white\"])\n",
    "    ax.contour(X, Y, Z, levels=[0], colors=\"black\")\n",
    "    ax.set_axis_off()\n",
    "plt.savefig(\"screenshots/cross_beam.png\", bbox_inches=\"tight\", dpi=600)"
   ]
  }
 ],
 "metadata": {
  "kernelspec": {
   "display_name": "Python 3",
   "language": "python",
   "name": "python3"
  },
  "language_info": {
   "codemirror_mode": {
    "name": "ipython",
    "version": 3
   },
   "file_extension": ".py",
   "mimetype": "text/x-python",
   "name": "python",
   "nbconvert_exporter": "python",
   "pygments_lexer": "ipython3",
   "version": "3.10.14"
  }
 },
 "nbformat": 4,
 "nbformat_minor": 2
}

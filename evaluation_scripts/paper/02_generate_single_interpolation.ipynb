{
 "cells": [
  {
   "cell_type": "code",
   "execution_count": 1,
   "metadata": {},
   "outputs": [],
   "source": [
    "import gustaf as gus\n",
    "import numpy as np\n",
    "import splinepy as sp\n",
    "import vedo\n",
    "\n",
    "vedo.settings.default_backend = 'k3d'\n",
    "\n",
    "\n",
    "import igl\n",
    "import matplotlib.pyplot as plt\n",
    "import torch\n",
    "\n",
    "import deep_sdf.utils\n",
    "from deep_sdf import workspace as ws\n",
    "from sdf_sampler.plotting import scatter_contour_at_origin\n",
    "\n",
    "params = {'text.usetex': False, 'mathtext.fontset': 'cm', 'axes.labelsize': 12}\n",
    "plt.rcParams.update(params)\n",
    "\n",
    "device = torch.device(\"cuda\" if torch.cuda.is_available() else \"cpu\")\n",
    "device = torch.device(\"cpu\")"
   ]
  },
  {
   "cell_type": "code",
   "execution_count": 2,
   "metadata": {},
   "outputs": [],
   "source": [
    "experiment_directory = \"../../experiments/double_lattice_3D_no_topo\"\n",
    "checkpoint = \"1000\"\n",
    "\n",
    "graded = True\n",
    "\n",
    "latent = ws.load_latent_vectors(experiment_directory, checkpoint).to(\"cpu\").numpy()\n",
    "decoder = ws.load_trained_model(experiment_directory, checkpoint).to(device)\n",
    "decoder.eval()\n",
    "latent_base = np.array([0, -0.4])"
   ]
  },
  {
   "cell_type": "code",
   "execution_count": 3,
   "metadata": {},
   "outputs": [
    {
     "data": {
      "image/png": "[encoded data removed]",
      "text/plain": [
       "<Figure size 354.331x196.85 with 2 Axes>"
      ]
     },
     "metadata": {},
     "output_type": "display_data"
    }
   ],
   "source": [
    "control_points_ungraded = np.array([latent_base]*4)\n",
    "control_points_graded = control_points_ungraded\n",
    "control_points_graded[3] += 0.2\n",
    "\n",
    "tiling = [1, 1, 1]\n",
    "N_base = 50\n",
    "\n",
    "\n",
    "control_points_for_min_max = np.vstack([control_points_graded, control_points_ungraded])\n",
    "\n",
    "r_min = control_points_for_min_max[:,0].min()\n",
    "r_max = control_points_for_min_max[:,0].max()\n",
    "g_min = control_points_for_min_max[:,1].min()\n",
    "g_max = control_points_for_min_max[:,1].max()\n",
    "\n",
    "\n",
    "if graded:\n",
    "    graded_string = \"_single_graded\"\n",
    "    control_points = np.vstack([control_points_graded, control_points_graded])\n",
    "else:\n",
    "    graded_string = \"_single\"\n",
    "    control_points = np.vstack([control_points_ungraded, control_points_ungraded])\n",
    "\n",
    "latent_vec_interpolation = sp.BSpline(\n",
    "    degrees=[1, 1, 1],\n",
    "    knot_vectors=[[-1, -1, 1, 1],\n",
    "                [-1, -1, 1, 1],\n",
    "                [-1, -1, 1, 1]],\n",
    "    control_points=control_points,\n",
    ")\n",
    "fig, axs = plt.subplots(1, 2, figsize=(9/2.54, 5/2.54))\n",
    "x = np.linspace(-1, 1, 1000)\n",
    "y = np.linspace(-1, 1, 1000)\n",
    "X, Y = np.meshgrid(x, y)\n",
    "\n",
    "\n",
    "# Compute the z values for the grid\n",
    "Z = latent_vec_interpolation.evaluate(np.hstack([X.reshape(-1,1), Y.reshape(-1,1), np.zeros_like(Y.reshape(-1,1))]))\n",
    "z_show = np.sqrt(Z[:,0]**2 + Z[:,1]**2).reshape(X.shape)\n",
    "z_show = Z[:,1].reshape(X.shape)\n",
    "axs[0].contourf(Y, X, Z[:,0].reshape(X.shape), cmap=\"plasma\")\n",
    "axs[1].contourf(Y, X, Z[:,1].reshape(X.shape), cmap=\"plasma\")\n",
    "\n",
    "r = Z[:,0].reshape(X.shape)\n",
    "g = Z[:,1].reshape(X.shape)\n",
    "\n",
    "r_norm = (r-r_min)/(r_max-r_min)\n",
    "g_norm = (g-g_min)/(g_max-g_min)\n",
    "for ax in axs:\n",
    "    ax.set_xticks([])\n",
    "    ax.set_yticks([])\n",
    "    ax.set_xlabel(r\"$x$\")\n",
    "    ax.set_ylabel(r\"$y$\")\n",
    "plt.savefig(f\"screenshots/structure_latent{graded_string}.png\", dpi=600, bbox_inches=\"tight\")"
   ]
  },
  {
   "cell_type": "code",
   "execution_count": 4,
   "metadata": {},
   "outputs": [
    {
     "data": {
      "image/png": "[encoded data removed]",
      "text/plain": [
       "<Figure size 354.331x196.85 with 1 Axes>"
      ]
     },
     "metadata": {},
     "output_type": "display_data"
    }
   ],
   "source": [
    "\n",
    "def transform(x, t):\n",
    "    p = 2/t\n",
    "    return (2/p)*torch.abs((x-t%2) % (p*2) - p) -1\n",
    "\n",
    "def sdf_struct(queries):\n",
    "    queries = torch.tensor(queries, dtype=torch.float32).to(device)\n",
    "    tx, ty, tz = tiling\n",
    "\n",
    "\n",
    "    samples = torch.zeros(queries.shape[0], 3)\n",
    "    samples[:, 0] = transform(queries[:, 0], tx)\n",
    "    samples[:, 1] = transform(queries[:, 1], ty)\n",
    "    samples[:, 2] = transform(queries[:, 2], tz)\n",
    "    lat_vec_red = torch.tensor(latent_vec_interpolation.evaluate(queries.cpu().numpy()), dtype=torch.float32)\n",
    "    queries = torch.hstack([torch.tensor(lat_vec_red).to(torch.float32).to(device), samples])\n",
    "\n",
    "    return deep_sdf.utils.decode_sdf(decoder, None, queries).squeeze(1).detach().cpu().numpy()\n",
    "\n",
    "\n",
    "fig, ax = plt.subplots(1, 1, figsize=(9/2.54, 5/2.54))\n",
    "\n",
    "\n",
    "x = torch.linspace(0, 1, 1000)\n",
    "y = transform((x-0.5)*2, 5)\n",
    "ax.plot(x.cpu().numpy(), y.cpu().numpy())\n",
    "ax.set_xlabel(r\"$x$\")\n",
    "ax.set_ylabel(r\"$\\^x$\")\n",
    "ax.set_xticks([])\n",
    "ax.set_yticks([])\n",
    "\n",
    "plt.savefig(f\"screenshots/structure_parameter_transform{graded_string}.png\", dpi=600, bbox_inches=\"tight\")"
   ]
  },
  {
   "cell_type": "code",
   "execution_count": 5,
   "metadata": {},
   "outputs": [
    {
     "name": "stderr",
     "output_type": "stream",
     "text": [
      "/tmp/ipykernel_1353017/1291786042.py:15: UserWarning: To copy construct from a tensor, it is recommended to use sourceTensor.clone().detach() or sourceTensor.clone().detach().requires_grad_(True), rather than torch.tensor(sourceTensor).\n",
      "  queries = torch.hstack([torch.tensor(lat_vec_red).to(torch.float32).to(device), samples])\n",
      "/home/michael.kofler/DeepSDF/sdf_sampler/plotting.py:92: UserWarning: The following kwargs were not used by contour: 'color'\n",
      "  ax[0].contour(sdf, levels=[0], color=\"black\", linewidths=0.5)\n"
     ]
    },
    {
     "data": {
      "image/png": "[encoded data removed]",
      "text/plain": [
       "<Figure size 196.85x196.85 with 1 Axes>"
      ]
     },
     "metadata": {},
     "output_type": "display_data"
    }
   ],
   "source": [
    "fig, ax = plt.subplots(1, 1, figsize=(5/2.54, 5/2.54))\n",
    "scatter_contour_at_origin(sdf_struct, normal=(0,1,0), custom_axis=ax, res=1000, flip_axes=True, eval_area=(-1,1), scale=(1,1))\n",
    "ax.set_xlabel(r\"$x$\")\n",
    "ax.set_ylabel(r\"$y$\")\n",
    "ax.set_xticks([])\n",
    "ax.set_yticks([])\n",
    "plt.savefig(f\"screenshots/structure_sdf{graded_string}.png\", dpi=600, bbox_inches=\"tight\")"
   ]
  },
  {
   "cell_type": "code",
   "execution_count": 8,
   "metadata": {},
   "outputs": [
    {
     "name": "stderr",
     "output_type": "stream",
     "text": [
      "/tmp/ipykernel_1353017/1291786042.py:15: UserWarning: To copy construct from a tensor, it is recommended to use sourceTensor.clone().detach() or sourceTensor.clone().detach().requires_grad_(True), rather than torch.tensor(sourceTensor).\n",
      "  queries = torch.hstack([torch.tensor(lat_vec_red).to(torch.float32).to(device), samples])\n"
     ]
    },
    {
     "data": {
      "image/png": "[encoded data removed]",
      "text/plain": [
       "<Figure size 492.126x196.85 with 1 Axes>"
      ]
     },
     "metadata": {},
     "output_type": "display_data"
    }
   ],
   "source": [
    "fig, ax = plt.subplots(1, 1, figsize=(5/2.54*10/4, 5/2.54))\n",
    "scatter_contour_at_origin(sdf_struct, normal=(0,1,0), custom_axis=ax, res=100, flip_axes=True, eval_area=(-1,1), scale=(5,2))\n",
    "ax.set_xlabel(r\"$\\bar{x}$\")\n",
    "ax.set_ylabel(r\"$\\bar{y}$\")\n",
    "ax.set_xticks([])\n",
    "ax.set_yticks([])\n",
    "plt.savefig(f\"screenshots/structure_sdf_scaled{graded_string}.png\", dpi=600, bbox_inches=\"tight\")"
   ]
  },
  {
   "cell_type": "code",
   "execution_count": 9,
   "metadata": {},
   "outputs": [
    {
     "name": "stdout",
     "output_type": "stream",
     "text": [
      "sampling takes: 0.072663\n"
     ]
    },
    {
     "data": {
      "application/vnd.jupyter.widget-view+json": {
       "model_id": "1f1b9688c5584cefa2efb0447485db24",
       "version_major": 2,
       "version_minor": 0
      },
      "text/plain": [
       "K3DPlotterN(children=(Plot(antialias=True, axes=['x', 'y', 'z'], axes_helper=1.0, axes_helper_colors=[16711680…"
      ]
     },
     "metadata": {},
     "output_type": "display_data"
    }
   ],
   "source": [
    "\n",
    "# mesh reconstruction\n",
    "\n",
    "cap_border_dict = {\n",
    "    \"x0\": {\"cap\": 1, \"measure\": 0.1},\n",
    "    \"x1\": {\"cap\": 1, \"measure\": 0.1},\n",
    "    \"y0\": {\"cap\": 1, \"measure\": 0.1},\n",
    "    \"y1\": {\"cap\": 1, \"measure\": 0.1},\n",
    "}\n",
    "\n",
    "N = [N_base * t+1 for t in tiling]\n",
    "\n",
    "verts, faces = deep_sdf.mesh.create_mesh_microstructure(tiling, decoder, latent_vec_interpolation, \"none\", cap_border_dict=cap_border_dict, N=N, use_flexicubes=False, device=device)\n",
    "\n",
    "# geometric parameters\n",
    "width = 5\n",
    "height = 1\n",
    "depth = 5\n",
    "\n",
    "control_points=np.array([\n",
    "        [0, 0, 0],\n",
    "        [0, height, 0],\n",
    "        [width, 0, 0],\n",
    "        [width, height, 0]\n",
    "    ])\n",
    "\n",
    "deformation_surf = sp.BSpline(\n",
    "    degrees=[1,1],\n",
    "    control_points=control_points,\n",
    "    knot_vectors=[[0, 0, 1, 1],[0, 0, 1, 1]],\n",
    ")\n",
    "\n",
    "deformation_volume = deformation_surf.create.extruded(extrusion_vector=[0,0,depth])\n",
    "\n",
    "# bring slightly outside vertices back\n",
    "verts[verts>1] = 1\n",
    "verts[verts<0] = 0\n",
    "\n",
    "verts_FFD_transformed = deformation_volume.evaluate(verts)\n",
    "\n",
    "surf_mesh = gus.faces.Faces(verts_FFD_transformed, faces)\n",
    "\n",
    "r = igl.decimate(surf_mesh.vertices, surf_mesh.faces, int(1e5))\n",
    "dmesh = gus.Faces(r[1], r[2])\n",
    "\n",
    "\n",
    "gus.show(dmesh, interactive=False, c=\"#EDEDED\", lw=1)"
   ]
  }
 ],
 "metadata": {
  "kernelspec": {
   "display_name": "pytorch",
   "language": "python",
   "name": "python3"
  },
  "language_info": {
   "codemirror_mode": {
    "name": "ipython",
    "version": 3
   },
   "file_extension": ".py",
   "mimetype": "text/x-python",
   "name": "python",
   "nbconvert_exporter": "python",
   "pygments_lexer": "ipython3",
   "version": "3.9.19"
  }
 },
 "nbformat": 4,
 "nbformat_minor": 2
}

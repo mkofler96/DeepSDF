{
 "cells": [
  {
   "cell_type": "code",
   "execution_count": 1,
   "metadata": {},
   "outputs": [],
   "source": [
    "import numpy as np\n",
    "import gustaf as gus\n",
    "import splinepy as sp\n",
    "import vedo\n",
    "vedo.settings.default_backend = 'k3d'\n",
    "\n",
    "from sdf_sampler.plotting import scatter_contour_at_z_level\n",
    "import matplotlib.pyplot as plt\n",
    "\n",
    "import torch\n",
    "from deep_sdf import workspace as ws\n",
    "import deep_sdf.utils\n",
    "import pathlib\n",
    "\n",
    "import igl\n",
    "\n",
    "params = {'text.usetex': False, 'mathtext.fontset': 'cm', 'axes.labelsize': 12}\n",
    "plt.rcParams.update(params)\n",
    "\n",
    "device = torch.device(\"cuda\" if torch.cuda.is_available() else \"cpu\")\n",
    "device = torch.device(\"cpu\")"
   ]
  },
  {
   "cell_type": "code",
   "execution_count": 2,
   "metadata": {},
   "outputs": [],
   "source": [
    "experiment_directory = \"../../experiments/double_lattice_3D\"\n",
    "checkpoint = \"1000\"\n",
    "\n",
    "graded = True\n",
    "\n",
    "latent = ws.load_latent_vectors(experiment_directory, checkpoint).to(\"cpu\").numpy()\n",
    "decoder = ws.load_trained_model(experiment_directory, checkpoint).to(device)\n",
    "decoder.eval()\n",
    "latent_base = np.array([0, -0.4])"
   ]
  }
 ],
 "metadata": {
  "kernelspec": {
   "display_name": "Python 3",
   "language": "python",
   "name": "python3"
  },
  "language_info": {
   "codemirror_mode": {
    "name": "ipython",
    "version": 3
   },
   "file_extension": ".py",
   "mimetype": "text/x-python",
   "name": "python",
   "nbconvert_exporter": "python",
   "pygments_lexer": "ipython3",
   "version": "3.10.14"
  }
 },
 "nbformat": 4,
 "nbformat_minor": 2
}

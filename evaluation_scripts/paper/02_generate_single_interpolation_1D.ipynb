{
 "cells": [
  {
   "cell_type": "code",
   "execution_count": 1,
   "metadata": {},
   "outputs": [],
   "source": [
    "import gustaf as gus\n",
    "import numpy as np\n",
    "import splinepy as sp\n",
    "import vedo\n",
    "\n",
    "vedo.settings.default_backend = 'k3d'\n",
    "\n",
    "\n",
    "import igl\n",
    "import matplotlib.pyplot as plt\n",
    "import torch\n",
    "\n",
    "import deep_sdf.utils\n",
    "from deep_sdf import workspace as ws\n",
    "from sdf_sampler.plotting import scatter_contour_at_origin\n",
    "\n",
    "params = {'text.usetex': False, 'mathtext.fontset': 'cm', 'axes.labelsize': 12}\n",
    "plt.rcParams.update(params)\n",
    "\n",
    "device = torch.device(\"cuda\" if torch.cuda.is_available() else \"cpu\")\n",
    "device = torch.device(\"cpu\")"
   ]
  },
  {
   "cell_type": "code",
   "execution_count": 2,
   "metadata": {},
   "outputs": [
    {
     "data": {
      "text/plain": [
       "Decoder(\n",
       "  (lin0): ParametrizedLinear(\n",
       "    in_features=4, out_features=128, bias=True\n",
       "    (parametrizations): ModuleDict(\n",
       "      (weight): ParametrizationList(\n",
       "        (0): _WeightNorm()\n",
       "      )\n",
       "    )\n",
       "  )\n",
       "  (lin1): ParametrizedLinear(\n",
       "    in_features=128, out_features=124, bias=True\n",
       "    (parametrizations): ModuleDict(\n",
       "      (weight): ParametrizationList(\n",
       "        (0): _WeightNorm()\n",
       "      )\n",
       "    )\n",
       "  )\n",
       "  (lin2): ParametrizedLinear(\n",
       "    in_features=128, out_features=128, bias=True\n",
       "    (parametrizations): ModuleDict(\n",
       "      (weight): ParametrizationList(\n",
       "        (0): _WeightNorm()\n",
       "      )\n",
       "    )\n",
       "  )\n",
       "  (lin3): ParametrizedLinear(\n",
       "    in_features=128, out_features=128, bias=True\n",
       "    (parametrizations): ModuleDict(\n",
       "      (weight): ParametrizationList(\n",
       "        (0): _WeightNorm()\n",
       "      )\n",
       "    )\n",
       "  )\n",
       "  (lin4): ParametrizedLinear(\n",
       "    in_features=128, out_features=128, bias=True\n",
       "    (parametrizations): ModuleDict(\n",
       "      (weight): ParametrizationList(\n",
       "        (0): _WeightNorm()\n",
       "      )\n",
       "    )\n",
       "  )\n",
       "  (lin5): ParametrizedLinear(\n",
       "    in_features=128, out_features=128, bias=True\n",
       "    (parametrizations): ModuleDict(\n",
       "      (weight): ParametrizationList(\n",
       "        (0): _WeightNorm()\n",
       "      )\n",
       "    )\n",
       "  )\n",
       "  (lin6): ParametrizedLinear(\n",
       "    in_features=128, out_features=1, bias=True\n",
       "    (parametrizations): ModuleDict(\n",
       "      (weight): ParametrizationList(\n",
       "        (0): _WeightNorm()\n",
       "      )\n",
       "    )\n",
       "  )\n",
       "  (relu): ReLU()\n",
       "  (th): Tanh()\n",
       ")"
      ]
     },
     "execution_count": 2,
     "metadata": {},
     "output_type": "execute_result"
    }
   ],
   "source": [
    "experiment_directory = \"../../experiments/round_cross_big_network\"\n",
    "checkpoint = \"1000\"\n",
    "\n",
    "graded = True\n",
    "\n",
    "latent = ws.load_latent_vectors(experiment_directory, checkpoint).to(\"cpu\").numpy()\n",
    "decoder = ws.load_trained_model(experiment_directory, checkpoint).to(device)\n",
    "decoder.eval()"
   ]
  },
  {
   "cell_type": "code",
   "execution_count": 7,
   "metadata": {},
   "outputs": [
    {
     "data": {
      "image/png": "[encoded data removed]",
      "text/plain": [
       "<Figure size 787.402x196.85 with 9 Axes>"
      ]
     },
     "metadata": {},
     "output_type": "display_data"
    }
   ],
   "source": [
    "def sdf_struct(queries, latent_vector):\n",
    "    queries = torch.tensor(queries).to(torch.float32).to(device)\n",
    "    latent_vector = torch.tensor([latent_vector]).to(torch.float32).to(device)\n",
    "    return deep_sdf.utils.decode_sdf(decoder, latent_vector, queries).squeeze(1).detach().cpu().numpy()\n",
    "n_plots = 9\n",
    "fig, axs = plt.subplots(1, n_plots, figsize=(20/2.54, 5/2.54))\n",
    "latent_vectors = np.linspace(-1,1,n_plots)\n",
    "for ax, lv in zip(axs.flatten(), latent_vectors):\n",
    "    sdf_struct_plot = lambda queries: sdf_struct(queries, lv)\n",
    "    scatter_contour_at_origin(sdf_struct_plot, normal=(0,1,0), custom_axis=ax, res=1000, flip_axes=True, eval_area=(-1,1), scale=(1,1))\n",
    "    ax.set_title(lv)"
   ]
  }
 ],
 "metadata": {
  "kernelspec": {
   "display_name": "pytorch",
   "language": "python",
   "name": "python3"
  },
  "language_info": {
   "codemirror_mode": {
    "name": "ipython",
    "version": 3
   },
   "file_extension": ".py",
   "mimetype": "text/x-python",
   "name": "python",
   "nbconvert_exporter": "python",
   "pygments_lexer": "ipython3",
   "version": "3.9.19"
  }
 },
 "nbformat": 4,
 "nbformat_minor": 2
}

{
 "cells": [
  {
   "cell_type": "code",
   "execution_count": 22,
   "metadata": {},
   "outputs": [],
   "source": [
    "import kaolin\n",
    "import torch\n",
    "import vedo.mesh\n",
    "import gustaf as gus\n",
    "import numpy as np\n",
    "import vedo\n",
    "import matplotlib.pyplot as plt\n",
    "import numpy as np\n",
    "import gustaf as gus\n",
    "import splinepy as sp\n",
    "from sdf_sampler.plotting import scatter_contour_at_z_level\n",
    "import torch\n",
    "from deep_sdf import workspace as ws\n",
    "import deep_sdf.utils\n",
    "from deep_sdf.mesh import CapBorderDict, location_lookup\n",
    "import pathlib\n",
    "vedo.settings.default_backend = 'k3d'\n"
   ]
  },
  {
   "cell_type": "code",
   "execution_count": 23,
   "metadata": {},
   "outputs": [],
   "source": [
    "params = {'text.usetex': False, 'mathtext.fontset': 'cm', 'axes.labelsize': 12}\n",
    "plt.rcParams.update(params)\n",
    "\n",
    "device = torch.device(\"cuda\" if torch.cuda.is_available() else \"cpu\")\n",
    "# device = torch.device(\"cpu\")\n",
    "\n",
    "experiment_directory = \"../../experiments/double_lattice_3D_small_network\"\n",
    "checkpoint = \"1000\"\n",
    "\n",
    "graded = True\n",
    "\n",
    "latent = ws.load_latent_vectors(experiment_directory, checkpoint).to(device)\n",
    "decoder = ws.load_trained_model(experiment_directory, checkpoint).to(device)\n",
    "decoder.eval()\n",
    "N = 31"
   ]
  },
  {
   "cell_type": "code",
   "execution_count": 24,
   "metadata": {},
   "outputs": [
    {
     "name": "stdout",
     "output_type": "stream",
     "text": [
      "tensor([[[ 0.0000e+00,  0.0000e+00],\n",
      "         [ 0.0000e+00,  0.0000e+00],\n",
      "         [ 0.0000e+00,  0.0000e+00]],\n",
      "\n",
      "        [[ 0.0000e+00,  0.0000e+00],\n",
      "         [ 0.0000e+00,  0.0000e+00],\n",
      "         [ 0.0000e+00,  0.0000e+00]],\n",
      "\n",
      "        [[ 0.0000e+00,  0.0000e+00],\n",
      "         [ 0.0000e+00,  0.0000e+00],\n",
      "         [ 0.0000e+00,  0.0000e+00]],\n",
      "\n",
      "        ...,\n",
      "\n",
      "        [[-2.4558e-03, -8.5853e-04],\n",
      "         [-2.4558e-03, -8.5853e-04],\n",
      "         [-1.1214e-08, -3.9624e-09]],\n",
      "\n",
      "        [[-2.4178e-03, -8.5433e-04],\n",
      "         [-2.4178e-03, -8.5433e-04],\n",
      "         [-1.1214e-08, -3.9624e-09]],\n",
      "\n",
      "        [[-1.6118e-03, -5.6955e-04],\n",
      "         [-1.6118e-03, -5.6955e-04],\n",
      "         [-1.6118e-03, -5.6955e-04]]], device='cuda:0')\n"
     ]
    }
   ],
   "source": [
    "cap_border_dict = {\n",
    "    \"x0\": {\"cap\": -1, \"measure\": 0.01},\n",
    "    \"x1\": {\"cap\": -1, \"measure\": 0.01},\n",
    "    \"y0\": {\"cap\": -1, \"measure\": 0.01},\n",
    "    \"y1\": {\"cap\": -1, \"measure\": 0.01},\n",
    "    \"z0\": {\"cap\": -1, \"measure\": 0.01},\n",
    "    \"z1\": {\"cap\": -1, \"measure\": 0.01},\n",
    "}\n",
    "\n",
    "def deep_sdf_function(samples, parameter):\n",
    "    samples_orig = deep_sdf.utils.decode_sdf(decoder, parameter, samples)\n",
    "    sdf_values = samples_orig[:,-1]\n",
    "    for loc, cap_dict in cap_border_dict.items():\n",
    "        cap, measure = cap_dict[\"cap\"], cap_dict[\"measure\"]\n",
    "        dim, multiplier = location_lookup[loc]\n",
    "        border_sdf = (samples[:, dim] - multiplier*(1-measure))*-multiplier\n",
    "        if cap == -1:\n",
    "            sdf_values = torch.maximum(sdf_values, -border_sdf)\n",
    "        elif cap == 1:\n",
    "            sdf_values = torch.minimum(sdf_values, border_sdf)\n",
    "        else:\n",
    "            raise ValueError(\"Cap must be -1 or 1\")\n",
    "\n",
    "    return -sdf_values\n",
    "\n",
    "reconstructor = kaolin.non_commercial.FlexiCubes(device='cuda')\n",
    "\n",
    "samples, cube_idx = reconstructor.construct_voxel_grid(resolution=N)\n",
    "samples = samples*2\n",
    "\n",
    "parameter = torch.tensor([0, -0.4], device='cuda', requires_grad = True)\n",
    "# parameter = latent[25]\n",
    "parameter.requires_grad = True\n",
    "\n",
    "# sdf_values = sphere_sdf(samples, parameter)\n",
    "sdf_values = deep_sdf_function(samples, parameter)\n",
    "# sdf_values.requires_grad = True\n",
    "output_tetmesh = False\n",
    "\n",
    "verts, faces, loss = reconstructor(voxelgrid_vertices=samples,\n",
    "                            scalar_field=sdf_values.view(-1), \n",
    "                            cube_idx=cube_idx,\n",
    "                            resolution=N,\n",
    "                            output_tetmesh=output_tetmesh)\n",
    "\n",
    "faces_np = faces.cpu().numpy()\n",
    "verts_np = verts.detach().cpu().numpy()\n",
    "# mesh = vedo.mesh.Mesh([verts_np, faces_np])\n",
    "mesh = gus.Faces(verts_np, faces_np)\n",
    "\n",
    "def verts_from_param(param):\n",
    "    sdf_values = deep_sdf_function(samples, param)\n",
    "    verts, faces, loss = reconstructor(voxelgrid_vertices=samples,\n",
    "                            scalar_field=sdf_values.view(-1), \n",
    "                            cube_idx=cube_idx,\n",
    "                            resolution=N,\n",
    "                            output_tetmesh=output_tetmesh)\n",
    "    return verts\n",
    "\n",
    "faces = gus.Faces(verts_np, faces_np)\n",
    "\n",
    "\n",
    "jac = torch.autograd.functional.jacobian(verts_from_param, parameter, strict=True)\n",
    "print(jac.mean())"
   ]
  },
  {
   "cell_type": "code",
   "execution_count": 26,
   "metadata": {},
   "outputs": [
    {
     "data": {
      "application/vnd.jupyter.widget-view+json": {
       "model_id": "90ca2316df754933ad3df0e6c9291e65",
       "version_major": 2,
       "version_minor": 0
      },
      "text/plain": [
       "K3DPlotterN(children=(Plot(antialias=True, axes=['x', 'y', 'z'], axes_helper=1.0, axes_helper_colors=[16711680…"
      ]
     },
     "metadata": {},
     "output_type": "display_data"
    }
   ],
   "source": [
    "directions = jac.detach().cpu().numpy()\n",
    "positions = verts.cpu().detach().numpy()\n",
    "faces.vertex_data[\"directions\"] = -directions[:,:,0]\n",
    "faces.show_options[\"arrow_data\"] = \"directions\"\n",
    "\n",
    "gus.show(faces, axes=1)\n"
   ]
  }
 ],
 "metadata": {
  "kernelspec": {
   "display_name": "Python 3",
   "language": "python",
   "name": "python3"
  },
  "language_info": {
   "codemirror_mode": {
    "name": "ipython",
    "version": 3
   },
   "file_extension": ".py",
   "mimetype": "text/x-python",
   "name": "python",
   "nbconvert_exporter": "python",
   "pygments_lexer": "ipython3",
   "version": "3.10.14"
  }
 },
 "nbformat": 4,
 "nbformat_minor": 2
}

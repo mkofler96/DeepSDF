{
 "cells": [
  {
   "cell_type": "code",
   "execution_count": 1,
   "metadata": {},
   "outputs": [],
   "source": [
    "import os\n",
    "\n",
    "import gustaf as gus\n",
    "import matplotlib.pyplot as plt\n",
    "import numpy as np\n",
    "import splinepy as sp\n",
    "import torch\n",
    "import vedo\n",
    "\n",
    "import deep_sdf.utils\n",
    "from deep_sdf import workspace as ws\n",
    "\n",
    "vedo.settings.default_backend = 'k3d'\n",
    "os.chdir(\"/home/michael.kofler/DeepSDF\")\n",
    "\n",
    "\n",
    "params = {'text.usetex': False, 'mathtext.fontset': 'cm', 'axes.labelsize': 12}\n",
    "plt.rcParams.update(params)\n",
    "\n",
    "device = torch.device(\"cuda\" if torch.cuda.is_available() else \"cpu\")\n"
   ]
  },
  {
   "cell_type": "code",
   "execution_count": 2,
   "metadata": {},
   "outputs": [],
   "source": [
    "experiment_directory = \"experiments/round_cross_big_network\"\n",
    "checkpoint = \"1000\"\n",
    "\n",
    "graded = True\n",
    "\n",
    "latent = ws.load_latent_vectors(experiment_directory, checkpoint).to(\"cpu\").numpy()\n",
    "decoder = ws.load_trained_model(experiment_directory, checkpoint).to(device)\n",
    "decoder.eval()\n",
    "latent_base = np.array([0])\n",
    "latent_base = latent[8]"
   ]
  },
  {
   "cell_type": "code",
   "execution_count": 3,
   "metadata": {},
   "outputs": [],
   "source": [
    "control_points_ungraded = np.array([latent_base]*6)\n",
    "control_points_graded = control_points_ungraded\n",
    "# control_points_graded[3] += 0.2\n",
    "\n",
    "tiling = [2, 1, 1]\n",
    "N_base = 30\n",
    "\n",
    "# note: tiling [4,4,1] N_base 50 produces the error: shape '[204, 204, 54]' is invalid for input of size 2269350\n",
    "\n",
    "control_points_for_min_max = np.vstack([control_points_graded, control_points_ungraded])\n",
    "\n",
    "if graded:\n",
    "    graded_string = \"_single_graded_derivative\"\n",
    "    control_points = np.vstack([control_points_graded, control_points_graded])\n",
    "else:\n",
    "    graded_string = \"_single\"\n",
    "    control_points = np.vstack([control_points_ungraded, control_points_ungraded])\n",
    "\n",
    "latent_vec_interpolation = sp.BSpline(\n",
    "    degrees=[2, 1, 1],\n",
    "    knot_vectors=[[-1, -1, -1, 1, 1, 1],\n",
    "                [-1, -1, 1, 1],\n",
    "                [-1, -1, 1, 1]],\n",
    "    control_points=control_points,\n",
    ")"
   ]
  },
  {
   "cell_type": "code",
   "execution_count": 4,
   "metadata": {},
   "outputs": [],
   "source": [
    "\n",
    "def transform(x, t):\n",
    "    p = 2/t\n",
    "    return (2/p)*torch.abs((x-t%2) % (p*2) - p) -1\n",
    "\n",
    "def sdf_struct(queries):\n",
    "    queries = torch.tensor(queries, dtype=torch.float32).to(device)\n",
    "    tx, ty, tz = tiling\n",
    "\n",
    "\n",
    "    samples = torch.zeros(queries.shape[0], 3)\n",
    "    samples[:, 0] = transform(queries[:, 0], tx)\n",
    "    samples[:, 1] = transform(queries[:, 1], ty)\n",
    "    samples[:, 2] = transform(queries[:, 2], tz)\n",
    "    lat_vec_red = torch.tensor(latent_vec_interpolation.evaluate(queries.cpu().numpy()), dtype=torch.float32)\n",
    "    queries = torch.hstack([torch.tensor(lat_vec_red).to(torch.float32).to(device), samples])\n",
    "\n",
    "    return deep_sdf.utils.decode_sdf(decoder, None, queries).squeeze(1).detach().cpu().numpy()\n"
   ]
  },
  {
   "cell_type": "code",
   "execution_count": 5,
   "metadata": {},
   "outputs": [],
   "source": [
    "cap_border_dict = {\n",
    "    \"x0\": {\"cap\": 1, \"measure\": 0.1},\n",
    "    \"x1\": {\"cap\": 1, \"measure\": 0.1},\n",
    "    \"y0\": {\"cap\": 1, \"measure\": 0.1},\n",
    "    \"y1\": {\"cap\": 1, \"measure\": 0.1},\n",
    "    \"z0\": {\"cap\": -1, \"measure\": 0.1},\n",
    "    \"z1\": {\"cap\": -1, \"measure\": 0.1},\n",
    "}\n",
    "\n",
    "N = [N_base * t+1 for t in tiling]\n",
    "\n",
    "verts, faces, jac = deep_sdf.mesh.create_mesh_microstructure_diff(tiling, decoder, latent_vec_interpolation, cap_border_dict=cap_border_dict, N=N, device=device, compute_derivatives=True)\n",
    "jac = jac.reshape((jac.shape[0], jac.shape[1], -1))\n",
    "verts_np = verts.detach().cpu().numpy()\n",
    "faces_np = faces.detach().cpu().numpy()"
   ]
  },
  {
   "cell_type": "code",
   "execution_count": null,
   "metadata": {},
   "outputs": [],
   "source": []
  },
  {
   "cell_type": "code",
   "execution_count": 6,
   "metadata": {},
   "outputs": [],
   "source": [
    "# \"freeform deformation\" of the mesh\n",
    "verts_np[:,0] = verts_np[:,0]*2\n",
    "jac[:,0,:] = jac[:,0,:]*2"
   ]
  },
  {
   "cell_type": "code",
   "execution_count": 7,
   "metadata": {},
   "outputs": [],
   "source": [
    "def dot_prod(A, B) -> np.ndarray:\n",
    "    dot_ai_bi = (A * B).sum(axis=-1, keepdims=True)\n",
    "    dot_bi_bi = (B * B).sum(axis=-1, keepdims=True)  # or square `norm`\n",
    "    C = dot_ai_bi / dot_bi_bi * B\n",
    "    return C"
   ]
  },
  {
   "cell_type": "code",
   "execution_count": 8,
   "metadata": {},
   "outputs": [
    {
     "data": {
      "application/vnd.jupyter.widget-view+json": {
       "model_id": "550153c552a84389b93de3d044b58aa5",
       "version_major": 2,
       "version_minor": 0
      },
      "text/plain": [
       "K3DPlotterN(children=(Plot(antialias=True, axes=['x', 'y', 'z'], axes_helper=1.0, axes_helper_colors=[16711680…"
      ]
     },
     "metadata": {},
     "output_type": "display_data"
    }
   ],
   "source": [
    "max_plots = 8\n",
    "faces = []\n",
    "jac[np.where(jac>1)] = 0\n",
    "jac[np.where(jac<-1)] = 0\n",
    "\n",
    "for i in range(min(max_plots,jac.shape[2])):\n",
    "    faces_der1 = gus.Faces(verts_np, faces_np)\n",
    "    normals = gus.create.faces.vertex_normals(faces_der1, angle_weighting=True, area_weighting=True)\n",
    "    directions = jac\n",
    "    positions = verts_np\n",
    "    switch_signs = -(2*(i%2)-1)\n",
    "    switch_signs = -1\n",
    "    dSdC = dot_prod(jac[:,:,i],normals.vertex_data[\"normals\"])\n",
    "    faces_der1.vertex_data[\"directions\"] = jac[:,:,i]*switch_signs\n",
    "    faces_der1.vertex_data[\"directions_normalized\"] = switch_signs*dSdC\n",
    "    faces_der1.vertex_data[\"directions_magnitude\"] = np.linalg.norm(switch_signs*dSdC, axis=1)\n",
    "    faces_der1.show_options[\"arrow_data\"] = \"directions_normalized\"\n",
    "    faces_der1.show_options[\"data\"] = \"directions_magnitude\"\n",
    "    faces.append(faces_der1)\n",
    "gus.show(*faces)\n"
   ]
  }
 ],
 "metadata": {
  "kernelspec": {
   "display_name": "pytorch",
   "language": "python",
   "name": "python3"
  },
  "language_info": {
   "codemirror_mode": {
    "name": "ipython",
    "version": 3
   },
   "file_extension": ".py",
   "mimetype": "text/x-python",
   "name": "python",
   "nbconvert_exporter": "python",
   "pygments_lexer": "ipython3",
   "version": "3.9.19"
  }
 },
 "nbformat": 4,
 "nbformat_minor": 2
}

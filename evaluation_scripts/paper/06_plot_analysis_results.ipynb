{
 "cells": [
  {
   "cell_type": "code",
   "execution_count": 1,
   "metadata": {},
   "outputs": [],
   "source": [
    "from deep_sdf.analysis import linear_elasticity as le \n",
    "\n",
    "from sdf_microstructure import create_microstructure_from_experiment, tetrahedralize_surface, export_mesh\n",
    "\n",
    "import gustaf as gus\n",
    "import vedo\n",
    "vedo.settings.default_backend = \"k3d\""
   ]
  },
  {
   "cell_type": "code",
   "execution_count": 2,
   "metadata": {},
   "outputs": [
    {
     "name": "stdout",
     "output_type": "stream",
     "text": [
      "Samples Shape: torch.Size([468968, 4])\n",
      "Samples Orig Shape: torch.Size([468968, 3])\n",
      "Latent Vector Shape: torch.Size([468968, 1])\n",
      "Cube Index Shape: torch.Size([450241, 8])\n",
      "Requested Shape: 450241\n",
      "(71072, 3, 12)\n"
     ]
    }
   ],
   "source": [
    "faces, jacobian = create_microstructure_from_experiment(\"/home/michael.kofler/DeepSDF/experiments/round_cross_big_network\", tiling=[2,1,1])"
   ]
  },
  {
   "cell_type": "code",
   "execution_count": 3,
   "metadata": {},
   "outputs": [
    {
     "name": "stdout",
     "output_type": "stream",
     "text": [
      "Delaunizing vertices...\n",
      "Delaunay seconds:  0.369657\n",
      "Creating surface mesh ...\n",
      "Surface mesh seconds:  0.131602\n",
      "Recovering boundaries...\n",
      "Boundary recovery seconds:  0.421537\n",
      "Removing exterior tetrahedra ...\n",
      "Exterior tets removal seconds:  0.133246\n",
      "Recovering Delaunayness...\n",
      "Delaunay recovery seconds:  0.233358\n",
      "Improving mesh...\n",
      "Mesh improvement seconds:  0.074531\n",
      "\n",
      "Writing nodes.\n",
      "Writing elements.\n",
      "Writing faces.\n",
      "Writing edges.\n",
      "\n",
      "Output seconds:  0.023412\n",
      "Total running seconds:  1.3913\n",
      "\n",
      "Statistics:\n",
      "\n",
      "  Input points: 71072\n",
      "  Input facets: 142288\n",
      "  Input segments: 115316\n",
      "  Input holes: 0\n",
      "  Input regions: 0\n",
      "\n",
      "  Mesh points: 71072\n",
      "  Mesh tetrahedra: 233090\n",
      "  Mesh faces: 537324\n",
      "  Mesh faces on exterior boundary: 142288\n",
      "  Mesh faces on input facets: 142288\n",
      "  Mesh edges on input segments: 115316\n",
      "\n"
     ]
    }
   ],
   "source": [
    "volumes = tetrahedralize_surface(faces)"
   ]
  },
  {
   "cell_type": "code",
   "execution_count": 4,
   "metadata": {},
   "outputs": [
    {
     "data": {
      "application/vnd.jupyter.widget-view+json": {
       "model_id": "76512ca1cc2141cc8dc6b6b9413bd3b2",
       "version_major": 2,
       "version_minor": 0
      },
      "text/plain": [
       "K3DPlotterN(children=(Plot(antialias=True, axes=['x', 'y', 'z'], axes_helper=1.0, axes_helper_colors=[16711680…"
      ]
     },
     "metadata": {},
     "output_type": "display_data"
    }
   ],
   "source": [
    "test_mesh = False\n",
    "\n",
    "if test_mesh:\n",
    "    volumes = gus.Volumes(\n",
    "        vertices=[\n",
    "            [0.0, 0.0, 0.0], #0\n",
    "            [1.0, 0.0, 0.0], #1\n",
    "            [0.0, 1.0, 0.0], #2\n",
    "            [1.0, 1.0, 0.0], #3\n",
    "            [0.0, 0.0, 1.0], #4\n",
    "            [1.0, 0.0, 1.0], #5\n",
    "            [0.0, 1.0, 1.0], #6\n",
    "            [1.0, 1.0, 1.0], #7\n",
    "            [2.0, 0.0, 0.0], #8\n",
    "            [2.0, 1.0, 0.0], #9\n",
    "            [2.0, 0.0, 1.0], #10\n",
    "            [2.0, 1.0, 1.0], #11\n",
    "        ],\n",
    "        volumes=[\n",
    "            [0, 1, 3, 2, 4, 5, 7, 6],\n",
    "            [1, 8, 9, 3, 5, 10, 11, 7]\n",
    "        ],\n",
    "    )\n",
    "# volumes.show_options[\"vertex_ids\"] = True\n",
    "gus.show(volumes)"
   ]
  },
  {
   "cell_type": "code",
   "execution_count": 5,
   "metadata": {},
   "outputs": [
    {
     "data": {
      "application/vnd.jupyter.widget-view+json": {
       "model_id": "980d430aedf648798a4bcd2c21ddbb99",
       "version_major": 2,
       "version_minor": 0
      },
      "text/plain": [
       "K3DPlotterN(children=(Plot(antialias=True, axes=['x', 'y', 'z'], axes_helper=1.0, axes_helper_colors=[16711680…"
      ]
     },
     "metadata": {},
     "output_type": "display_data"
    }
   ],
   "source": [
    "export_mesh(volumes, \"test_mesh.mesh\", show_mesh=True)"
   ]
  },
  {
   "cell_type": "code",
   "execution_count": 6,
   "metadata": {},
   "outputs": [
    {
     "data": {
      "application/vnd.jupyter.widget-view+json": {
       "model_id": "9a22f650ccea47cfa9c07749f0a70bbd",
       "version_major": 2,
       "version_minor": 0
      },
      "text/plain": [
       "K3DPlotterN(children=(Plot(antialias=True, axes=['x', 'y', 'z'], axes_helper=1.0, axes_helper_colors=[16711680…"
      ]
     },
     "metadata": {},
     "output_type": "display_data"
    }
   ],
   "source": [
    "le_problem = le.LinearElasticityProblem()\n",
    "le_problem.read_mesh(\"test_mesh.mesh\")\n",
    "le_problem.show_mesh()"
   ]
  },
  {
   "cell_type": "code",
   "execution_count": 7,
   "metadata": {},
   "outputs": [
    {
     "name": "stdout",
     "output_type": "stream",
     "text": [
      "Number of state unknowns: 213216\n",
      "Number of filter unknowns: 71072\n",
      "Number of control unknowns: 233090\n"
     ]
    }
   ],
   "source": [
    "export_mesh(volumes, \"test_mesh.mesh\")\n",
    "le_problem = le.LinearElasticityProblem()\n",
    "le_problem.read_mesh(\"test_mesh.mesh\")\n",
    "\n",
    "\n",
    "le_problem.get_volume_and_compliance(ref_levels=0)"
   ]
  },
  {
   "cell_type": "code",
   "execution_count": 8,
   "metadata": {},
   "outputs": [
    {
     "data": {
      "application/vnd.jupyter.widget-view+json": {
       "model_id": "6a0399b205c24d1b90fe5e99f80868d2",
       "version_major": 2,
       "version_minor": 0
      },
      "text/plain": [
       "K3DPlotterN(children=(Plot(antialias=True, axes=['x', 'y', 'z'], axes_helper=1.0, axes_helper_colors=[16711680…"
      ]
     },
     "metadata": {},
     "output_type": "display_data"
    }
   ],
   "source": [
    "le_problem.show_solution()"
   ]
  }
 ],
 "metadata": {
  "kernelspec": {
   "display_name": "pytorch",
   "language": "python",
   "name": "python3"
  },
  "language_info": {
   "codemirror_mode": {
    "name": "ipython",
    "version": 3
   },
   "file_extension": ".py",
   "mimetype": "text/x-python",
   "name": "python",
   "nbconvert_exporter": "python",
   "pygments_lexer": "ipython3",
   "version": "3.9.19"
  }
 },
 "nbformat": 4,
 "nbformat_minor": 2
}

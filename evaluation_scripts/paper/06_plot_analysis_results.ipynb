{
 "cells": [
  {
   "cell_type": "code",
   "execution_count": 1,
   "metadata": {},
   "outputs": [],
   "source": [
    "from deep_sdf.analysis import linear_elasticity as le \n",
    "\n",
    "from sdf_microstructure import create_microstructure_from_experiment, tetrahedralize_surface, export_mesh\n",
    "\n",
    "import splinepy\n",
    "import gustaf as gus\n",
    "import vedo\n",
    "vedo.settings.default_backend = \"k3d\"\n",
    "\n",
    "test_mesh = True"
   ]
  },
  {
   "cell_type": "code",
   "execution_count": 2,
   "metadata": {},
   "outputs": [],
   "source": [
    "faces, jacobian = create_microstructure_from_experiment(\"/home/michael.kofler/DeepSDF/experiments/round_cross_big_network\", tiling=[2,1,1])"
   ]
  },
  {
   "cell_type": "code",
   "execution_count": 3,
   "metadata": {},
   "outputs": [
    {
     "name": "stdout",
     "output_type": "stream",
     "text": [
      "Delaunizing vertices...\n",
      "Delaunay seconds:  0.081393\n",
      "Creating surface mesh ...\n",
      "Surface mesh seconds:  0.026383\n",
      "Recovering boundaries...\n",
      "Boundary recovery seconds:  0.071037\n",
      "Removing exterior tetrahedra ...\n",
      "Exterior tets removal seconds:  0.01589\n",
      "Recovering Delaunayness...\n",
      "Delaunay recovery seconds:  0.053366\n",
      "Improving mesh...\n",
      "Mesh improvement seconds:  0.014114\n",
      "\n",
      "Writing nodes.\n",
      "Writing elements.\n",
      "Writing faces.\n",
      "Writing edges.\n",
      "\n",
      "Output seconds:  0.002776\n",
      "Total running seconds:  0.265362\n",
      "\n",
      "Statistics:\n",
      "\n",
      "  Input points: 14658\n",
      "  Input facets: 29336\n",
      "  Input segments: 18456\n",
      "  Input holes: 0\n",
      "  Input regions: 0\n",
      "\n",
      "  Mesh points: 14658\n",
      "  Mesh tetrahedra: 46422\n",
      "  Mesh faces: 107512\n",
      "  Mesh faces on exterior boundary: 29336\n",
      "  Mesh faces on input facets: 29336\n",
      "  Mesh edges on input segments: 18456\n",
      "\n"
     ]
    }
   ],
   "source": [
    "volumes = tetrahedralize_surface(faces)"
   ]
  },
  {
   "cell_type": "code",
   "execution_count": 4,
   "metadata": {},
   "outputs": [
    {
     "data": {
      "application/vnd.jupyter.widget-view+json": {
       "model_id": "2c58d2ae424c40df8db515863d273887",
       "version_major": 2,
       "version_minor": 0
      },
      "text/plain": [
       "K3DPlotterN(children=(Plot(antialias=True, axes=['x', 'y', 'z'], axes_helper=1.0, axes_helper_colors=[16711680…"
      ]
     },
     "metadata": {},
     "output_type": "display_data"
    }
   ],
   "source": [
    "if test_mesh:\n",
    "    rect = splinepy.helpme.create.box(2, 1, 1)\n",
    "    volumes = rect.extract.volumes(resolution=30)\n",
    "\n",
    "gus.show(volumes)"
   ]
  },
  {
   "cell_type": "code",
   "execution_count": 5,
   "metadata": {},
   "outputs": [
    {
     "name": "stdout",
     "output_type": "stream",
     "text": [
      "[[0.         0.         0.        ]\n",
      " [0.06896552 0.         0.        ]\n",
      " [0.13793103 0.         0.        ]\n",
      " ...\n",
      " [1.86206897 1.         1.        ]\n",
      " [1.93103448 1.         1.        ]\n",
      " [2.         1.         1.        ]]\n"
     ]
    }
   ],
   "source": [
    "print(volumes.vertices)"
   ]
  },
  {
   "cell_type": "code",
   "execution_count": 6,
   "metadata": {},
   "outputs": [
    {
     "name": "stdout",
     "output_type": "stream",
     "text": [
      "Created Mesh with 24389 elements and 27000 vertices.\n",
      "841 faces marked 1, 0 faces marked 2 and 4205 faces marked 3\n"
     ]
    },
    {
     "data": {
      "application/vnd.jupyter.widget-view+json": {
       "model_id": "413c5431dc684b57a2fe98ecb850542f",
       "version_major": 2,
       "version_minor": 0
      },
      "text/plain": [
       "K3DPlotterN(children=(Plot(antialias=True, axes=['x', 'y', 'z'], axes_helper=1.0, axes_helper_colors=[16711680…"
      ]
     },
     "metadata": {},
     "output_type": "display_data"
    }
   ],
   "source": [
    "export_mesh(volumes, \"test_mesh.mesh\", show_mesh=True)"
   ]
  },
  {
   "cell_type": "code",
   "execution_count": 7,
   "metadata": {},
   "outputs": [
    {
     "data": {
      "application/vnd.jupyter.widget-view+json": {
       "model_id": "9e905bc291034f0d861718fc4e618432",
       "version_major": 2,
       "version_minor": 0
      },
      "text/plain": [
       "K3DPlotterN(children=(Plot(antialias=True, axes=['x', 'y', 'z'], axes_helper=1.0, axes_helper_colors=[16711680…"
      ]
     },
     "metadata": {},
     "output_type": "display_data"
    }
   ],
   "source": [
    "le_problem = le.LinearElasticityProblem()\n",
    "le_problem.read_mesh(\"test_mesh.mesh\")\n",
    "le_problem.show_mesh()"
   ]
  },
  {
   "cell_type": "code",
   "execution_count": 8,
   "metadata": {},
   "outputs": [
    {
     "name": "stdout",
     "output_type": "stream",
     "text": [
      "Created Mesh with 24389 elements and 27000 vertices.\n",
      "841 faces marked 1, 0 faces marked 2 and 4205 faces marked 3\n",
      "Number of state unknowns: 81000\n",
      "Number of filter unknowns: 27000\n",
      "Number of control unknowns: 24389\n",
      "Finished Solution. Max deflection: 0.0127065425764567\n"
     ]
    }
   ],
   "source": [
    "export_mesh(volumes, \"test_mesh.mesh\")\n",
    "le_problem = le.LinearElasticityProblem()\n",
    "le_problem.read_mesh(\"test_mesh.mesh\")\n",
    "\n",
    "\n",
    "le_problem.solve(ref_levels=0)\n",
    "le_problem.compute_compliance()"
   ]
  },
  {
   "cell_type": "code",
   "execution_count": 9,
   "metadata": {},
   "outputs": [
    {
     "data": {
      "application/vnd.jupyter.widget-view+json": {
       "model_id": "cb89f023bc83472ea1f4ed92b1e4b885",
       "version_major": 2,
       "version_minor": 0
      },
      "text/plain": [
       "K3DPlotterN(children=(Plot(antialias=True, axes=['x', 'y', 'z'], axes_helper=1.0, axes_helper_colors=[16711680…"
      ]
     },
     "metadata": {},
     "output_type": "display_data"
    }
   ],
   "source": [
    "le_problem.show_solution(output=\"u_vec\")"
   ]
  },
  {
   "cell_type": "code",
   "execution_count": 12,
   "metadata": {},
   "outputs": [
    {
     "data": {
      "application/vnd.jupyter.widget-view+json": {
       "model_id": "14a3ffa00b2a4f7fb87ae9ec45dc2c63",
       "version_major": 2,
       "version_minor": 0
      },
      "text/plain": [
       "K3DPlotterN(children=(Plot(antialias=True, axes=['x', 'y', 'z'], axes_helper=1.0, axes_helper_colors=[16711680…"
      ]
     },
     "metadata": {},
     "output_type": "display_data"
    }
   ],
   "source": [
    "le_problem.show_solution(output=\"strain_energy_density\", vmax=3e-2)"
   ]
  }
 ],
 "metadata": {
  "kernelspec": {
   "display_name": "pytorch",
   "language": "python",
   "name": "python3"
  },
  "language_info": {
   "codemirror_mode": {
    "name": "ipython",
    "version": 3
   },
   "file_extension": ".py",
   "mimetype": "text/x-python",
   "name": "python",
   "nbconvert_exporter": "python",
   "pygments_lexer": "ipython3",
   "version": "3.9.19"
  }
 },
 "nbformat": 4,
 "nbformat_minor": 2
}

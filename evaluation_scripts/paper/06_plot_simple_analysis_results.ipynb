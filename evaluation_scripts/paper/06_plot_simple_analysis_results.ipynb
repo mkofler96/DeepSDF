{
 "cells": [
  {
   "cell_type": "code",
   "execution_count": 1,
   "metadata": {},
   "outputs": [],
   "source": [
    "import splinepy\n",
    "import vedo\n",
    "import numpy as np\n",
    "from sdf_microstructure import (\n",
    "    create_microstructure_from_experiment,\n",
    "    export_mesh,\n",
    "    tetrahedralize_surface,\n",
    ")\n",
    "import os\n",
    "os.chdir(\"/home/michael.kofler/DeepSDF\")\n",
    "from analysis.problems.CantileverBeam import CantileverBeam as le\n",
    "\n",
    "vedo.settings.default_backend = \"k3d\"\n",
    "resolution=40"
   ]
  },
  {
   "cell_type": "code",
   "execution_count": null,
   "metadata": {},
   "outputs": [
    {
     "name": "stdout",
     "output_type": "stream",
     "text": [
      "[[0. 0. 0.]\n",
      " [2. 0. 0.]\n",
      " [0. 1. 0.]\n",
      " [2. 1. 0.]\n",
      " [0. 0. 1.]\n",
      " [2. 0. 1.]\n",
      " [0. 1. 1.]\n",
      " [2. 1. 1.]]\n"
     ]
    }
   ],
   "source": [
    "rect = splinepy.helpme.create.box(2, 1, 1)\n",
    "rect.control_points[1][2] = 0.1\n",
    "rect.control_points[3][2] = 0.1\n",
    "volumes = rect.extract.volumes(resolution=resolution)\n",
    "rect_dist = splinepy.helpme.create.box(2, 1, 1)\n",
    "print(rect_dist.control_points)\n",
    "rect_dist.control_points[1][2] = 0.001\n",
    "rect_dist.control_points[3][2] = 0.001\n",
    "volumes = rect.extract.volumes(resolution=resolution)\n",
    "volumes_dist = rect_dist.extract.volumes(resolution=resolution)"
   ]
  },
  {
   "cell_type": "code",
   "execution_count": 3,
   "metadata": {},
   "outputs": [
    {
     "name": "stdout",
     "output_type": "stream",
     "text": [
      "Exporting mesh with 59319 elements, 64000 vertices, 1521 boundaries with marker 1, 1677 boundaries with marker 2, and 5928 boundaries with marker 3.\n"
     ]
    },
    {
     "data": {
      "application/vnd.jupyter.widget-view+json": {
       "model_id": "23c65944e9044409a0eeaba0e15c90df",
       "version_major": 2,
       "version_minor": 0
      },
      "text/plain": [
       "K3DPlotterN(children=(Plot(antialias=True, axes=['x', 'y', 'z'], axes_helper=1.0, axes_helper_colors=[16711680…"
      ]
     },
     "metadata": {},
     "output_type": "display_data"
    },
    {
     "name": "stdout",
     "output_type": "stream",
     "text": [
      "Exporting mesh with 59319 elements, 64000 vertices, 1521 boundaries with marker 1, 1677 boundaries with marker 2, and 5928 boundaries with marker 3.\n"
     ]
    }
   ],
   "source": [
    "export_mesh(volumes, \"test_mesh.mesh\", show_mesh=False)\n",
    "export_mesh(volumes_dist, \"test_mesh_dist.mesh\", show_mesh=True)"
   ]
  },
  {
   "cell_type": "code",
   "execution_count": 4,
   "metadata": {},
   "outputs": [],
   "source": [
    "# dVertices of stretched - base\n",
    "dVertices = volumes_dist.vertices - volumes.vertices\n",
    "dVertices = np.dstack([dVertices])"
   ]
  },
  {
   "cell_type": "code",
   "execution_count": 5,
   "metadata": {},
   "outputs": [
    {
     "name": "stdout",
     "output_type": "stream",
     "text": [
      "Vol: 1.9, dVol: [0.0990029]\n",
      "Compliance: 2.2414e-05, dCompliance: [-1.63551659e-06]\n"
     ]
    },
    {
     "data": {
      "application/vnd.jupyter.widget-view+json": {
       "model_id": "c18d35d32cc54aef87cad900c9163f35",
       "version_major": 2,
       "version_minor": 0
      },
      "text/plain": [
       "K3DPlotterN(children=(Plot(antialias=True, axes=['x', 'y', 'z'], axes_helper=1.0, axes_helper_colors=[16711680…"
      ]
     },
     "metadata": {},
     "output_type": "display_data"
    }
   ],
   "source": [
    "le_problem = le(\"simulation/temp_sim\")\n",
    "le_problem.read_mesh(\"test_mesh.mesh\")\n",
    "# before solve, we should add a problem setup and set material properties\n",
    "le_problem.set_up()\n",
    "vol, der_vol = le_problem.compute_volume(dTheta=dVertices)\n",
    "print(f\"Vol: {vol:.5g}, dVol: {der_vol}\")\n",
    "le_problem.solve()\n",
    "compliance, der_compliance = le_problem.compute_compliance(dTheta=dVertices)\n",
    "print(f\"Compliance: {compliance:.5g}, dCompliance: {der_compliance}\")\n",
    "le_problem.show_solution(output=[\"u_vec\",\"strain_energy_density\"])"
   ]
  },
  {
   "cell_type": "code",
   "execution_count": 6,
   "metadata": {},
   "outputs": [
    {
     "name": "stdout",
     "output_type": "stream",
     "text": [
      "Vol: 1.999, dVol: [0.09900064]\n",
      "Compliance: 2.5286e-05\n",
      "Delta: 2.8722439812296683e-06, expected: [-1.63551659e-06]\n"
     ]
    },
    {
     "data": {
      "application/vnd.jupyter.widget-view+json": {
       "model_id": "a5c671b06e4f42e094135383d0345a83",
       "version_major": 2,
       "version_minor": 0
      },
      "text/plain": [
       "K3DPlotterN(children=(Plot(antialias=True, axes=['x', 'y', 'z'], axes_helper=1.0, axes_helper_colors=[16711680…"
      ]
     },
     "metadata": {},
     "output_type": "display_data"
    }
   ],
   "source": [
    "le_problem = le(\"simulation/temp_sim\")\n",
    "le_problem.read_mesh(\"test_mesh_dist.mesh\")\n",
    "# before solve, we should add a problem setup and set material properties\n",
    "le_problem.set_up()\n",
    "vol, der_vol = le_problem.compute_volume(dTheta=dVertices)\n",
    "print(f\"Vol: {vol:.5g}, dVol: {der_vol}\")\n",
    "le_problem.solve()\n",
    "compliance_new, _ = le_problem.compute_compliance(dTheta=dVertices)\n",
    "print(f\"Compliance: {compliance_new:.5g}\")\n",
    "print(f\"Delta: {compliance_new-compliance}, expected: {der_compliance}\")\n",
    "le_problem.show_solution(output=[\"u_vec\",\"strain_energy_density\"])"
   ]
  },
  {
   "cell_type": "code",
   "execution_count": 7,
   "metadata": {
    "tags": []
   },
   "outputs": [],
   "source": [
    "# le_problem = le.LinearElasticityProblem()\n",
    "# le_problem.read_mesh(\"test_mesh_stretched.mesh\")\n",
    "# # before solve, we should add a problem setup and set material properties\n",
    "# le_problem.set_up(ref_levels=0)\n",
    "# vol, _ = le_problem.compute_volume()\n",
    "# print(f\"Volume of deformed mesh {vol:.5g}\")\n",
    "# le_problem.solve()\n",
    "# compliance, der_compliance = le_problem.compute_compliance()\n",
    "# print(f\"Compliance of deformed mesh: {compliance:.5g}\")\n",
    "# le_problem.show_solution(output=[\"u_vec\",\"strain_energy_density\"])"
   ]
  }
 ],
 "metadata": {
  "kernelspec": {
   "display_name": "pytorch",
   "language": "python",
   "name": "python3"
  },
  "language_info": {
   "codemirror_mode": {
    "name": "ipython",
    "version": 3
   },
   "file_extension": ".py",
   "mimetype": "text/x-python",
   "name": "python",
   "nbconvert_exporter": "python",
   "pygments_lexer": "ipython3",
   "version": "3.9.19"
  }
 },
 "nbformat": 4,
 "nbformat_minor": 4
}

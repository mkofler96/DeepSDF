{
 "cells": [
  {
   "cell_type": "code",
   "execution_count": 1,
   "metadata": {},
   "outputs": [],
   "source": [
    "import splinepy\n",
    "import vedo\n",
    "from sdf_microstructure import (\n",
    "    create_microstructure_from_experiment,\n",
    "    export_mesh,\n",
    "    tetrahedralize_surface,\n",
    ")\n",
    "\n",
    "from deep_sdf.analysis import linear_elasticity as le\n",
    "\n",
    "vedo.settings.default_backend = \"k3d\"\n",
    "\n",
    "test_mesh = True"
   ]
  },
  {
   "cell_type": "code",
   "execution_count": 2,
   "metadata": {},
   "outputs": [],
   "source": [
    "faces, jacobian = create_microstructure_from_experiment(\"/home/michael.kofler/DeepSDF/experiments/round_cross_big_network\", tiling=[4,2,2], N_base=20)"
   ]
  },
  {
   "cell_type": "code",
   "execution_count": 3,
   "metadata": {},
   "outputs": [],
   "source": [
    "if test_mesh:\n",
    "    rect = splinepy.helpme.create.box(2, 1, 1)\n",
    "    volumes = rect.extract.volumes(resolution=30)\n",
    "else:\n",
    "    volumes = tetrahedralize_surface(faces)"
   ]
  },
  {
   "cell_type": "code",
   "execution_count": 4,
   "metadata": {},
   "outputs": [
    {
     "data": {
      "application/vnd.jupyter.widget-view+json": {
       "model_id": "65affbe518734bfabe974746aebafb95",
       "version_major": 2,
       "version_minor": 0
      },
      "text/plain": [
       "K3DPlotterN(children=(Plot(antialias=True, axes=['x', 'y', 'z'], axes_helper=1.0, axes_helper_colors=[16711680…"
      ]
     },
     "metadata": {},
     "output_type": "display_data"
    }
   ],
   "source": [
    "export_mesh(volumes, \"test_mesh.mesh\", show_mesh=False)\n",
    "le_problem = le.LinearElasticityProblem()\n",
    "le_problem.read_mesh(\"test_mesh.mesh\")\n",
    "le_problem.show_mesh()"
   ]
  },
  {
   "cell_type": "code",
   "execution_count": 5,
   "metadata": {},
   "outputs": [
    {
     "name": "stdout",
     "output_type": "stream",
     "text": [
      "Number of state unknowns: 81000\n",
      "Number of filter unknowns: 27000\n",
      "Number of control unknowns: 24389\n",
      "Finished Solution. Max deflection: 0.0127065425764567\n"
     ]
    }
   ],
   "source": [
    "export_mesh(volumes, \"test_mesh.mesh\")\n",
    "le_problem = le.LinearElasticityProblem()\n",
    "le_problem.read_mesh(\"test_mesh.mesh\")\n",
    "\n",
    "\n",
    "le_problem.solve(ref_levels=0)\n",
    "# le_problem.compute_compliance()\n"
   ]
  },
  {
   "cell_type": "code",
   "execution_count": 56,
   "metadata": {},
   "outputs": [
    {
     "name": "stdout",
     "output_type": "stream",
     "text": [
      "(12383.262333209626, None)\n"
     ]
    }
   ],
   "source": [
    "print(le_problem.compute_volume())"
   ]
  },
  {
   "cell_type": "code",
   "execution_count": 7,
   "metadata": {},
   "outputs": [],
   "source": [
    "le_problem.compute_compliance()"
   ]
  },
  {
   "cell_type": "code",
   "execution_count": 8,
   "metadata": {},
   "outputs": [
    {
     "name": "stdout",
     "output_type": "stream",
     "text": [
      "(nan, None)\n"
     ]
    }
   ],
   "source": [
    "print(le_problem.compute_volume())"
   ]
  },
  {
   "cell_type": "code",
   "execution_count": 9,
   "metadata": {},
   "outputs": [
    {
     "data": {
      "application/vnd.jupyter.widget-view+json": {
       "model_id": "c4250015d4584f1eb709c5e6365940c8",
       "version_major": 2,
       "version_minor": 0
      },
      "text/plain": [
       "K3DPlotterN(children=(Plot(antialias=True, axes=['x', 'y', 'z'], axes_helper=1.0, axes_helper_colors=[16711680…"
      ]
     },
     "metadata": {},
     "output_type": "display_data"
    }
   ],
   "source": [
    "le_problem.show_solution(output=\"u_vec\")"
   ]
  },
  {
   "cell_type": "code",
   "execution_count": 10,
   "metadata": {},
   "outputs": [
    {
     "data": {
      "application/vnd.jupyter.widget-view+json": {
       "model_id": "3b949fa3765e4e5389aa57725b991c39",
       "version_major": 2,
       "version_minor": 0
      },
      "text/plain": [
       "K3DPlotterN(children=(Plot(antialias=True, axes=['x', 'y', 'z'], axes_helper=1.0, axes_helper_colors=[16711680…"
      ]
     },
     "metadata": {},
     "output_type": "display_data"
    }
   ],
   "source": [
    "le_problem.show_solution(output=\"strain_energy_density\")"
   ]
  }
 ],
 "metadata": {
  "kernelspec": {
   "display_name": "pytorch",
   "language": "python",
   "name": "python3"
  },
  "language_info": {
   "codemirror_mode": {
    "name": "ipython",
    "version": 3
   },
   "file_extension": ".py",
   "mimetype": "text/x-python",
   "name": "python",
   "nbconvert_exporter": "python",
   "pygments_lexer": "ipython3",
   "version": "3.9.19"
  }
 },
 "nbformat": 4,
 "nbformat_minor": 2
}

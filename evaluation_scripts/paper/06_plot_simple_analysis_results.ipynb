{
 "cells": [
  {
   "cell_type": "code",
   "execution_count": 1,
   "metadata": {},
   "outputs": [],
   "source": [
    "import splinepy\n",
    "import vedo\n",
    "from sdf_microstructure import (\n",
    "    create_microstructure_from_experiment,\n",
    "    export_mesh,\n",
    "    tetrahedralize_surface,\n",
    ")\n",
    "\n",
    "from deep_sdf.analysis import linear_elasticity as le\n",
    "\n",
    "vedo.settings.default_backend = \"k3d\"\n",
    "resolution=11"
   ]
  },
  {
   "cell_type": "code",
   "execution_count": 2,
   "metadata": {},
   "outputs": [],
   "source": [
    "rect = splinepy.helpme.create.box(2, 1, 1)\n",
    "volumes = rect.extract.volumes(resolution=resolution)"
   ]
  },
  {
   "cell_type": "code",
   "execution_count": 3,
   "metadata": {},
   "outputs": [
    {
     "name": "stdout",
     "output_type": "stream",
     "text": [
      "Exporting mesh with 1000 elements, 1331 vertices, 100 boundaries with marker 1, 140 boundaries with marker 2, and 360 boundaries with marker 3.\n"
     ]
    },
    {
     "data": {
      "application/vnd.jupyter.widget-view+json": {
       "model_id": "9a4f5f0292a94c578f1e0933ad421023",
       "version_major": 2,
       "version_minor": 0
      },
      "text/plain": [
       "K3DPlotterN(children=(Plot(antialias=True, axes=['x', 'y', 'z'], axes_helper=1.0, axes_helper_colors=[16711680…"
      ]
     },
     "metadata": {},
     "output_type": "display_data"
    },
    {
     "name": "stdout",
     "output_type": "stream",
     "text": [
      "Exporting mesh with 1000 elements, 1331 vertices, 100 boundaries with marker 1, 140 boundaries with marker 2, and 360 boundaries with marker 3.\n"
     ]
    }
   ],
   "source": [
    "export_mesh(volumes, \"test_mesh.mesh\", show_mesh=False)\n",
    "le_problem = le.LinearElasticityProblem()\n",
    "le_problem.read_mesh(\"test_mesh.mesh\")\n",
    "le_problem.show_mesh()\n",
    "export_mesh(volumes, \"test_mesh.mesh\")"
   ]
  },
  {
   "cell_type": "code",
   "execution_count": null,
   "metadata": {},
   "outputs": [
    {
     "name": "stdout",
     "output_type": "stream",
     "text": [
      "Exporting mesh with 1000 elements, 1331 vertices, 100 boundaries with marker 1, 140 boundaries with marker 2, and 360 boundaries with marker 3.\n"
     ]
    }
   ],
   "source": [
    "volumes_stretched = volumes.copy()\n",
    "volumes_stretched.vertices[:,1] = volumes.vertices[:,1]*3\n",
    "export_mesh(volumes_stretched, \"test_mesh_stretched.mesh\")\n",
    "\n",
    "# dVertices of stretched - base\n",
    "dVertices = volumes_stretched.vertices - volumes.vertices"
   ]
  },
  {
   "cell_type": "code",
   "execution_count": 5,
   "metadata": {},
   "outputs": [
    {
     "name": "stdout",
     "output_type": "stream",
     "text": [
      "Vol: 2, dVol: 4\n",
      "Finished Solution. Max deflection: 0.09897099221427715\n",
      "Saving results to linear_elasticity\n",
      "Compliance: 426.59, dCompliance: -1.1144\n"
     ]
    },
    {
     "data": {
      "application/vnd.jupyter.widget-view+json": {
       "model_id": "aa9dfde26caa4383b25b4b1c71059985",
       "version_major": 2,
       "version_minor": 0
      },
      "text/plain": [
       "K3DPlotterN(children=(Plot(antialias=True, axes=['x', 'y', 'z'], axes_helper=1.0, axes_helper_colors=[16711680…"
      ]
     },
     "metadata": {},
     "output_type": "display_data"
    }
   ],
   "source": [
    "le_problem = le.LinearElasticityProblem()\n",
    "le_problem.read_mesh(\"test_mesh.mesh\")\n",
    "# before solve, we should add a problem setup and set material properties\n",
    "le_problem.set_up()\n",
    "vol, der_vol = le_problem.compute_volume(dTheta=dVertices)\n",
    "print(f\"Vol: {vol:.5g}, dVol: {der_vol:.5g}\")\n",
    "le_problem.solve()\n",
    "compliance, der_compliance = le_problem.compute_compliance(dTheta=dVertices)\n",
    "print(f\"Compliance: {compliance:.5g}, dCompliance: {der_compliance:.5g}\")\n",
    "le_problem.show_solution(output=[\"u_vec\",\"strain_energy_density\"])"
   ]
  },
  {
   "cell_type": "code",
   "execution_count": 6,
   "metadata": {
    "tags": []
   },
   "outputs": [],
   "source": [
    "# le_problem = le.LinearElasticityProblem()\n",
    "# le_problem.read_mesh(\"test_mesh_stretched.mesh\")\n",
    "# # before solve, we should add a problem setup and set material properties\n",
    "# le_problem.set_up(ref_levels=0)\n",
    "# vol, _ = le_problem.compute_volume()\n",
    "# print(f\"Volume of deformed mesh {vol:.5g}\")\n",
    "# le_problem.solve()\n",
    "# compliance, der_compliance = le_problem.compute_compliance()\n",
    "# print(f\"Compliance of deformed mesh: {compliance:.5g}\")\n",
    "# le_problem.show_solution(output=[\"u_vec\",\"strain_energy_density\"])"
   ]
  }
 ],
 "metadata": {
  "kernelspec": {
   "display_name": "pytorch",
   "language": "python",
   "name": "python3"
  },
  "language_info": {
   "codemirror_mode": {
    "name": "ipython",
    "version": 3
   },
   "file_extension": ".py",
   "mimetype": "text/x-python",
   "name": "python",
   "nbconvert_exporter": "python",
   "pygments_lexer": "ipython3",
   "version": "3.9.19"
  }
 },
 "nbformat": 4,
 "nbformat_minor": 4
}

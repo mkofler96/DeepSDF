{
 "cells": [
  {
   "cell_type": "code",
   "execution_count": 1,
   "metadata": {},
   "outputs": [],
   "source": [
    "import splinepy\n",
    "import numpy as np\n",
    "import vedo\n",
    "from sdf_microstructure import (\n",
    "    create_microstructure_from_experiment,\n",
    "    export_mesh,\n",
    "    tetrahedralize_surface,\n",
    ")\n",
    "\n",
    "from deep_sdf.analysis import linear_elasticity as le\n",
    "\n",
    "vedo.settings.default_backend = \"k3d\"\n",
    "\n",
    "test_mesh = False"
   ]
  },
  {
   "cell_type": "code",
   "execution_count": 2,
   "metadata": {},
   "outputs": [],
   "source": [
    "faces, jacobian = create_microstructure_from_experiment(\"/home/michael.kofler/DeepSDF/experiments/round_cross_big_network\", tiling=[2,1,1], N_base=20)"
   ]
  },
  {
   "cell_type": "code",
   "execution_count": 3,
   "metadata": {},
   "outputs": [
    {
     "name": "stdout",
     "output_type": "stream",
     "text": [
      "Delaunizing vertices...\n",
      "Delaunay seconds:  0.034453\n",
      "Creating surface mesh ...\n",
      "Surface mesh seconds:  0.010999\n",
      "Recovering boundaries...\n",
      "Boundary recovery seconds:  0.033622\n",
      "Removing exterior tetrahedra ...\n",
      "Exterior tets removal seconds:  0.008187\n",
      "Recovering Delaunayness...\n",
      "Delaunay recovery seconds:  0.023233\n",
      "Improving mesh...\n",
      "Mesh improvement seconds:  0.006575\n",
      "\n",
      "Writing nodes.\n",
      "Writing elements.\n",
      "Writing faces.\n",
      "Writing edges.\n",
      "\n",
      "Output seconds:  0.001282\n",
      "Total running seconds:  0.118675\n",
      "\n",
      "Statistics:\n",
      "\n",
      "  Input points: 6794\n",
      "  Input facets: 13608\n",
      "  Input segments: 9432\n",
      "  Input holes: 0\n",
      "  Input regions: 0\n",
      "\n",
      "  Mesh points: 6794\n",
      "  Mesh tetrahedra: 21411\n",
      "  Mesh faces: 49626\n",
      "  Mesh faces on exterior boundary: 13608\n",
      "  Mesh faces on input facets: 13608\n",
      "  Mesh edges on input segments: 9432\n",
      "\n"
     ]
    }
   ],
   "source": [
    "if test_mesh:\n",
    "    rect = splinepy.helpme.create.box(2, 1, 1)\n",
    "    volumes = rect.extract.volumes(resolution=30)\n",
    "else:\n",
    "    volumes = tetrahedralize_surface(faces)"
   ]
  },
  {
   "cell_type": "code",
   "execution_count": 4,
   "metadata": {},
   "outputs": [
    {
     "data": {
      "application/vnd.jupyter.widget-view+json": {
       "model_id": "005217801a2d4d948f4017c2eb3ca0fd",
       "version_major": 2,
       "version_minor": 0
      },
      "text/plain": [
       "K3DPlotterN(children=(Plot(antialias=True, axes=['x', 'y', 'z'], axes_helper=1.0, axes_helper_colors=[16711680…"
      ]
     },
     "metadata": {},
     "output_type": "display_data"
    }
   ],
   "source": [
    "export_mesh(volumes, \"test_mesh.mesh\", show_mesh=False)\n",
    "le_problem = le.LinearElasticityProblem()\n",
    "le_problem.read_mesh(\"test_mesh.mesh\")\n",
    "le_problem.show_mesh()"
   ]
  },
  {
   "cell_type": "code",
   "execution_count": 5,
   "metadata": {},
   "outputs": [
    {
     "name": "stdout",
     "output_type": "stream",
     "text": [
      "Vol: 0.81736, dVol: -0.020616\n",
      "Finished Solution. Max deflection: 0.2132845927664023\n",
      "Saving results to linear_elasticity\n",
      "Compliance: 2653.6, dCompliance: 0.012185\n"
     ]
    },
    {
     "data": {
      "application/vnd.jupyter.widget-view+json": {
       "model_id": "1f4fec90af494278ae86a11a73e23d7d",
       "version_major": 2,
       "version_minor": 0
      },
      "text/plain": [
       "K3DPlotterN(children=(Plot(antialias=True, axes=['x', 'y', 'z'], axes_helper=1.0, axes_helper_colors=[16711680…"
      ]
     },
     "metadata": {},
     "output_type": "display_data"
    }
   ],
   "source": [
    "le_problem = le.LinearElasticityProblem()\n",
    "le_problem.read_mesh(\"test_mesh.mesh\")\n",
    "# before solve, we should add a problem setup and set material properties\n",
    "le_problem.set_up()\n",
    "dVertices = np.float64(jacobian[:,:,0]*0.1)\n",
    "vol, der_vol = le_problem.compute_volume(dTheta=dVertices)\n",
    "print(f\"Vol: {vol:.5g}, dVol: {der_vol:.5g}\")\n",
    "le_problem.solve()\n",
    "compliance, der_compliance = le_problem.compute_compliance(dTheta=dVertices)\n",
    "print(f\"Compliance: {compliance:.5g}, dCompliance: {der_compliance:.5g}\")\n",
    "le_problem.show_solution(output=[\"u_vec\",\"strain_energy_density\"], vmax=0.2)"
   ]
  },
  {
   "cell_type": "code",
   "execution_count": 6,
   "metadata": {},
   "outputs": [
    {
     "name": "stdout",
     "output_type": "stream",
     "text": [
      "Elements with wrong orientation: 301 / 21411 (fixed)\n",
      "Volume of deformed mesh 0.80005\n",
      "Finished Solution. Max deflection: 0.2193602606143406\n",
      "Saving results to linear_elasticity\n",
      "Compliance of deformed mesh: 2800.5\n"
     ]
    },
    {
     "data": {
      "application/vnd.jupyter.widget-view+json": {
       "model_id": "5325ae3685594befa8b4e7b13e2064f4",
       "version_major": 2,
       "version_minor": 0
      },
      "text/plain": [
       "K3DPlotterN(children=(Plot(antialias=True, axes=['x', 'y', 'z'], axes_helper=1.0, axes_helper_colors=[16711680…"
      ]
     },
     "metadata": {},
     "output_type": "display_data"
    }
   ],
   "source": [
    "le_problem = le.LinearElasticityProblem()\n",
    "volumes_stretched = volumes.copy()\n",
    "volumes_stretched.vertices = volumes.vertices + dVertices\n",
    "export_mesh(volumes_stretched, \"test_mesh_stretched.mesh\")\n",
    "le_problem.read_mesh(\"test_mesh_stretched.mesh\")\n",
    "# before solve, we should add a problem setup and set material properties\n",
    "le_problem.set_up(ref_levels=0)\n",
    "vol, _ = le_problem.compute_volume()\n",
    "print(f\"Volume of deformed mesh {vol:.5g}\")\n",
    "le_problem.solve()\n",
    "compliance, der_compliance = le_problem.compute_compliance()\n",
    "print(f\"Compliance of deformed mesh: {compliance:.5g}\")\n",
    "le_problem.show_solution(output=[\"u_vec\",\"strain_energy_density\"])"
   ]
  },
  {
   "cell_type": "code",
   "execution_count": null,
   "metadata": {},
   "outputs": [],
   "source": []
  }
 ],
 "metadata": {
  "kernelspec": {
   "display_name": "pytorch",
   "language": "python",
   "name": "python3"
  },
  "language_info": {
   "codemirror_mode": {
    "name": "ipython",
    "version": 3
   },
   "file_extension": ".py",
   "mimetype": "text/x-python",
   "name": "python",
   "nbconvert_exporter": "python",
   "pygments_lexer": "ipython3",
   "version": "3.9.19"
  }
 },
 "nbformat": 4,
 "nbformat_minor": 4
}

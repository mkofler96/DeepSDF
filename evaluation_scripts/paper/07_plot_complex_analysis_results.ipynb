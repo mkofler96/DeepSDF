{
 "cells": [
  {
   "cell_type": "code",
   "execution_count": 1,
   "metadata": {},
   "outputs": [],
   "source": [
    "import splinepy\n",
    "import gustaf as gus\n",
    "import numpy as np\n",
    "import vedo\n",
    "from sdf_microstructure import (\n",
    "    create_microstructure_from_experiment,\n",
    "    export_mesh,\n",
    "    tetrahedralize_surface,\n",
    ")\n",
    "\n",
    "from deep_sdf.analysis import linear_elasticity as le\n",
    "\n",
    "vedo.settings.default_backend = \"k3d\"\n",
    "tiling = [6,3,3]\n",
    "tiling = [2,1,1]"
   ]
  },
  {
   "cell_type": "code",
   "execution_count": 2,
   "metadata": {},
   "outputs": [],
   "source": [
    "faces, jacobian = create_microstructure_from_experiment(\"/home/michael.kofler/DeepSDF/experiments/round_cross_big_network\", tiling=tiling, N_base=20)\n"
   ]
  },
  {
   "cell_type": "code",
   "execution_count": 3,
   "metadata": {},
   "outputs": [
    {
     "name": "stdout",
     "output_type": "stream",
     "text": [
      "Delaunizing vertices...\n",
      "Delaunay seconds:  0.033941\n",
      "Creating surface mesh ...\n",
      "Surface mesh seconds:  0.007675\n",
      "Recovering boundaries...\n",
      "Boundary recovery seconds:  0.138553\n",
      "Removing exterior tetrahedra ...\n",
      "Exterior tets removal seconds:  0.006431\n",
      "Suppressing Steiner points ...\n",
      "Steiner suppression seconds:  1.4e-05\n",
      "Recovering Delaunayness...\n",
      "Delaunay recovery seconds:  0.035381\n",
      "Refining mesh...\n",
      "Refinement seconds:  0.038857\n",
      "Smoothing vertices...\n",
      "Mesh smoothing seconds:  0.039888\n",
      "Improving mesh...\n",
      "Mesh improvement seconds:  0.010122\n",
      "Jettisoning redundant points.\n",
      "\n",
      "Writing nodes.\n",
      "Writing elements.\n",
      "Writing faces.\n",
      "Writing edges.\n",
      "\n",
      "Output seconds:  0.001239\n",
      "Total running seconds:  0.318037\n",
      "\n",
      "Statistics:\n",
      "\n",
      "  Input points: 6794\n",
      "  Input facets: 13608\n",
      "  Input segments: 20412\n",
      "  Input holes: 0\n",
      "  Input regions: 0\n",
      "\n",
      "  Mesh points: 7604\n",
      "  Mesh tetrahedra: 25201\n",
      "  Mesh faces: 57206\n",
      "  Mesh faces on exterior boundary: 13608\n",
      "  Mesh faces on input facets: 13608\n",
      "  Mesh edges on input segments: 20412\n",
      "  Steiner points inside domain: 810\n",
      "\n"
     ]
    }
   ],
   "source": [
    "volumes, surface_indices = tetrahedralize_surface(faces)"
   ]
  },
  {
   "cell_type": "code",
   "execution_count": 4,
   "metadata": {},
   "outputs": [
    {
     "name": "stdout",
     "output_type": "stream",
     "text": [
      "Exporting mesh with 25201 elements, 7604 vertices, 896 boundaries with marker 1, 1064 boundaries with marker 2, and 11648 boundaries with marker 3.\n"
     ]
    },
    {
     "data": {
      "application/vnd.jupyter.widget-view+json": {
       "model_id": "7c9758efff3446a5bbfb875a3f1e0233",
       "version_major": 2,
       "version_minor": 0
      },
      "text/plain": [
       "K3DPlotterN(children=(Plot(antialias=True, axes=['x', 'y', 'z'], axes_helper=1.0, axes_helper_colors=[16711680…"
      ]
     },
     "metadata": {},
     "output_type": "display_data"
    }
   ],
   "source": [
    "export_mesh(volumes, \"test_mesh.mesh\", show_mesh=False)\n",
    "le_problem = le.LinearElasticityProblem()\n",
    "le_problem.read_mesh(\"test_mesh.mesh\")\n",
    "le_problem.show_mesh()"
   ]
  },
  {
   "cell_type": "code",
   "execution_count": 5,
   "metadata": {},
   "outputs": [],
   "source": [
    "def dot_prod(A, B) -> np.ndarray:\n",
    "    dot_ai_bi = (A * B).sum(axis=-1, keepdims=True)\n",
    "    dot_bi_bi = (B * B).sum(axis=-1, keepdims=True)  # or square `norm`\n",
    "    C = dot_ai_bi / dot_bi_bi * B\n",
    "    return C"
   ]
  },
  {
   "cell_type": "code",
   "execution_count": 6,
   "metadata": {},
   "outputs": [
    {
     "name": "stdout",
     "output_type": "stream",
     "text": [
      "(6794, 3)\n",
      "(7604, 3)\n"
     ]
    },
    {
     "data": {
      "application/vnd.jupyter.widget-view+json": {
       "model_id": "cbb724deac5d43c9ac743c38336b7c00",
       "version_major": 2,
       "version_minor": 0
      },
      "text/plain": [
       "K3DPlotterN(children=(Plot(antialias=True, axes=['x', 'y', 'z'], axes_helper=1.0, axes_helper_colors=[16711680…"
      ]
     },
     "metadata": {},
     "output_type": "display_data"
    }
   ],
   "source": [
    "le_problem = le.LinearElasticityProblem()\n",
    "le_problem.read_mesh(\"test_mesh.mesh\")\n",
    "# before solve, we should add a problem setup and set material properties\n",
    "le_problem.set_up()\n",
    "dVertices = None\n",
    "dVertices = np.zeros((volumes.vertices.shape[0], volumes.vertices.shape[1], jacobian.shape[2]))\n",
    "normals = gus.create.faces.vertex_normals(faces, angle_weighting=True, area_weighting=True)\n",
    "dVertices_normal = np.zeros_like(jacobian)\n",
    "for i in range(jacobian.shape[2]):\n",
    "    dVertices_normal[:,:,i] = dot_prod(np.float64(jacobian[:,:,i]),normals.vertex_data[\"normals\"])\n",
    "    dVertices[surface_indices[:,0],:,i] = dVertices_normal[:,:,i]\n"
   ]
  },
  {
   "cell_type": "code",
   "execution_count": 11,
   "metadata": {},
   "outputs": [
    {
     "data": {
      "application/vnd.jupyter.widget-view+json": {
       "model_id": "a04dc15b27ed4d33a75faff9b2fbcf9e",
       "version_major": 2,
       "version_minor": 0
      },
      "text/plain": [
       "K3DPlotterN(children=(Plot(antialias=True, axes=['x', 'y', 'z'], axes_helper=1.0, axes_helper_colors=[16711680…"
      ]
     },
     "metadata": {},
     "output_type": "display_data"
    }
   ],
   "source": [
    "show_vol = []\n",
    "for i in range(jacobian.shape[2]):\n",
    "    volumes_cp = volumes.copy()\n",
    "    volumes_cp.vertex_data[\"dVertices\"] = -10*dVertices[:,:,i]\n",
    "    volumes_cp.show_options[\"arrow_data\"] = \"dVertices\"\n",
    "    show_vol.append(volumes_cp)\n",
    "gus.show(*show_vol)"
   ]
  },
  {
   "cell_type": "code",
   "execution_count": 7,
   "metadata": {},
   "outputs": [
    {
     "ename": "TypeError",
     "evalue": "unsupported format string passed to numpy.ndarray.__format__",
     "output_type": "error",
     "traceback": [
      "\u001b[0;31m---------------------------------------------------------------------------\u001b[0m",
      "\u001b[0;31mTypeError\u001b[0m                                 Traceback (most recent call last)",
      "Cell \u001b[0;32mIn[7], line 4\u001b[0m\n\u001b[1;32m      2\u001b[0m \u001b[38;5;28;01mif\u001b[39;00m der_vol \u001b[38;5;129;01mis\u001b[39;00m \u001b[38;5;28;01mNone\u001b[39;00m:\n\u001b[1;32m      3\u001b[0m     der_vol \u001b[38;5;241m=\u001b[39m \u001b[38;5;241m0\u001b[39m\n\u001b[0;32m----> 4\u001b[0m \u001b[38;5;28mprint\u001b[39m(\u001b[38;5;124mf\u001b[39m\u001b[38;5;124m\"\u001b[39m\u001b[38;5;124mVol: \u001b[39m\u001b[38;5;132;01m{\u001b[39;00mvol\u001b[38;5;132;01m:\u001b[39;00m\u001b[38;5;124m.5g\u001b[39m\u001b[38;5;132;01m}\u001b[39;00m\u001b[38;5;124m, dVol: \u001b[39m\u001b[38;5;132;01m{\u001b[39;00mder_vol\u001b[38;5;132;01m:\u001b[39;00m\u001b[38;5;124m.5g\u001b[39m\u001b[38;5;132;01m}\u001b[39;00m\u001b[38;5;124m\"\u001b[39m)\n\u001b[1;32m      5\u001b[0m le_problem\u001b[38;5;241m.\u001b[39msolve()\n\u001b[1;32m      6\u001b[0m compliance, der_compliance \u001b[38;5;241m=\u001b[39m le_problem\u001b[38;5;241m.\u001b[39mcompute_compliance(dTheta\u001b[38;5;241m=\u001b[39mdVertices)\n",
      "\u001b[0;31mTypeError\u001b[0m: unsupported format string passed to numpy.ndarray.__format__"
     ]
    }
   ],
   "source": [
    "vol, der_vol = le_problem.compute_volume(dTheta=dVertices)\n",
    "if der_vol is None:\n",
    "    der_vol = 0\n",
    "print(f\"Vol: {vol:.5g}, dVol: {der_vol:.5g}\")\n",
    "le_problem.solve()\n",
    "compliance, der_compliance = le_problem.compute_compliance(dTheta=dVertices)\n",
    "if der_compliance is None:\n",
    "    der_compliance = 0\n",
    "print(f\"Compliance: {compliance:.5g}, dCompliance: {der_compliance:.5g}\")\n",
    "le_problem.show_solution(output=[\"u_vec\",\"strain_energy_density\"])\n",
    "expected_vol = vol+der_vol\n",
    "expected_compl = compliance + der_compliance"
   ]
  },
  {
   "cell_type": "code",
   "execution_count": 17,
   "metadata": {},
   "outputs": [
    {
     "name": "stdout",
     "output_type": "stream",
     "text": [
      "Exporting mesh with 414497 elements, 113665 vertices, 7080 boundaries with marker 1, 7568 boundaries with marker 2, and 166376 boundaries with marker 3.\n",
      "Elements with wrong orientation: 1698 / 414497 (fixed)\n",
      "Volume of deformed mesh 0.85541 (0.8544 expected)\n",
      "Finished Solution. Max deflection: 0.0015224935999991402\n",
      "Saving results to linear_elasticity\n",
      "Compliance of deformed mesh: 17.68 (19.256 expected)\n"
     ]
    },
    {
     "data": {
      "application/vnd.jupyter.widget-view+json": {
       "model_id": "4dbb7ece5bda414ba27e6477c53196e7",
       "version_major": 2,
       "version_minor": 0
      },
      "text/plain": [
       "K3DPlotterN(children=(Plot(antialias=True, axes=['x', 'y', 'z'], axes_helper=1.0, axes_helper_colors=[16711680…"
      ]
     },
     "metadata": {},
     "output_type": "display_data"
    }
   ],
   "source": [
    "le_problem = le.LinearElasticityProblem()\n",
    "volumes_stretched = volumes.copy()\n",
    "volumes_stretched.vertices = volumes.vertices + dVertices\n",
    "export_mesh(volumes_stretched, \"test_mesh_stretched.mesh\")\n",
    "le_problem.read_mesh(\"test_mesh_stretched.mesh\")\n",
    "# before solve, we should add a problem setup and set material properties\n",
    "le_problem.set_up(ref_levels=0)\n",
    "vol, _ = le_problem.compute_volume()\n",
    "print(f\"Volume of deformed mesh {vol:.5g} ({expected_vol:.5g} expected)\")\n",
    "le_problem.solve()\n",
    "compliance, der_compliance = le_problem.compute_compliance()\n",
    "print(f\"Compliance of deformed mesh: {compliance:.5g} ({expected_compl:.5g} expected)\")\n",
    "le_problem.show_solution(output=[\"u_vec\",\"strain_energy_density\"])"
   ]
  },
  {
   "cell_type": "code",
   "execution_count": 18,
   "metadata": {},
   "outputs": [
    {
     "data": {
      "application/vnd.jupyter.widget-view+json": {
       "model_id": "48dd3cb9a9f842a0b5434420f3a751ed",
       "version_major": 2,
       "version_minor": 0
      },
      "text/plain": [
       "K3DPlotterN(children=(Plot(antialias=True, axes=['x', 'y', 'z'], axes_helper=1.0, axes_helper_colors=[16711680…"
      ]
     },
     "metadata": {},
     "output_type": "display_data"
    }
   ],
   "source": [
    "volumes_stretched.vertex_data[\"dVertices\"] = 10*dVertices\n",
    "# mag_dvert = np.linalg.norm(dVertices, axis=1)\n",
    "# volumes.vertex_data[\"directions_magnitude\"] = mag_dvert\n",
    "# volumes.show_options[\"data\"] = \"directions_magnitue\"\n",
    "volumes_stretched.show_options[\"arrow_data\"] = \"dVertices\"\n",
    "gus.show(volumes_stretched)"
   ]
  }
 ],
 "metadata": {
  "kernelspec": {
   "display_name": "pytorch",
   "language": "python",
   "name": "python3"
  },
  "language_info": {
   "codemirror_mode": {
    "name": "ipython",
    "version": 3
   },
   "file_extension": ".py",
   "mimetype": "text/x-python",
   "name": "python",
   "nbconvert_exporter": "python",
   "pygments_lexer": "ipython3",
   "version": "3.9.19"
  }
 },
 "nbformat": 4,
 "nbformat_minor": 4
}

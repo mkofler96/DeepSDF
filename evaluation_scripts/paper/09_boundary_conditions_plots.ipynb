{
 "cells": [
  {
   "cell_type": "code",
   "execution_count": 1,
   "metadata": {},
   "outputs": [],
   "source": [
    "import splinepy as sp\n",
    "import gustaf as gus\n",
    "import numpy as np\n",
    "import vedo\n",
    "\n",
    "# comment this line to visualize within the notebook (limited functionalities)\n",
    "vedo.settings.default_backend = \"vtk\""
   ]
  },
  {
   "cell_type": "markdown",
   "metadata": {},
   "source": [
    "### Clamp boundary condition"
   ]
  },
  {
   "cell_type": "code",
   "execution_count": 6,
   "metadata": {},
   "outputs": [
    {
     "name": "stderr",
     "output_type": "stream",
     "text": [
      "Gustaf plotting in notebooks is only supported with k3dbackend. To use this backend, set vedo.settings.default_backend = 'k3d' in your notebook. Using the default backend might give unexpected results and errors.\n"
     ]
    },
    {
     "ename": "AttributeError",
     "evalue": "'Plotter' object has no attribute 'display'",
     "output_type": "error",
     "traceback": [
      "\u001b[1;31m---------------------------------------------------------------------------\u001b[0m",
      "\u001b[1;31mAttributeError\u001b[0m                            Traceback (most recent call last)",
      "Cell \u001b[1;32mIn[6], line 32\u001b[0m\n\u001b[0;32m     30\u001b[0m d_e\u001b[38;5;241m.\u001b[39mshow_options[\u001b[38;5;124m\"\u001b[39m\u001b[38;5;124mc\u001b[39m\u001b[38;5;124m\"\u001b[39m] \u001b[38;5;241m=\u001b[39m \u001b[38;5;124m\"\u001b[39m\u001b[38;5;124mblack\u001b[39m\u001b[38;5;124m\"\u001b[39m\n\u001b[0;32m     31\u001b[0m d_e\u001b[38;5;241m.\u001b[39mshow_options[\u001b[38;5;124m\"\u001b[39m\u001b[38;5;124mlw\u001b[39m\u001b[38;5;124m\"\u001b[39m] \u001b[38;5;241m=\u001b[39m \u001b[38;5;241m3\u001b[39m\n\u001b[1;32m---> 32\u001b[0m \u001b[43mgus\u001b[49m\u001b[38;5;241;43m.\u001b[39;49m\u001b[43mshow\u001b[49m\u001b[43m(\u001b[49m\u001b[43md_e\u001b[49m\u001b[43m)\u001b[49m\n",
      "File \u001b[1;32mc:\\Users\\mkofler\\miniconda3\\envs\\pytorch\\Lib\\site-packages\\gustaf\\show.py:48\u001b[0m, in \u001b[0;36m_CallableShowDotPy.__call__\u001b[1;34m(self, *args, **kwargs)\u001b[0m\n\u001b[0;32m     46\u001b[0m \u001b[38;5;28;01mdef\u001b[39;00m \u001b[38;5;21m__call__\u001b[39m(\u001b[38;5;28mself\u001b[39m, \u001b[38;5;241m*\u001b[39margs, \u001b[38;5;241m*\u001b[39m\u001b[38;5;241m*\u001b[39mkwargs):\n\u001b[0;32m     47\u001b[0m \u001b[38;5;250m    \u001b[39m\u001b[38;5;124;03m\"\"\"call show()\"\"\"\u001b[39;00m\n\u001b[1;32m---> 48\u001b[0m     \u001b[38;5;28;01mreturn\u001b[39;00m \u001b[43mshow\u001b[49m\u001b[43m(\u001b[49m\u001b[38;5;241;43m*\u001b[39;49m\u001b[43margs\u001b[49m\u001b[43m,\u001b[49m\u001b[43m \u001b[49m\u001b[38;5;241;43m*\u001b[39;49m\u001b[38;5;241;43m*\u001b[39;49m\u001b[43mkwargs\u001b[49m\u001b[43m)\u001b[49m\n",
      "File \u001b[1;32mc:\\Users\\mkofler\\miniconda3\\envs\\pytorch\\Lib\\site-packages\\gustaf\\show.py:221\u001b[0m, in \u001b[0;36mshow\u001b[1;34m(*args, **kwargs)\u001b[0m\n\u001b[0;32m    212\u001b[0m         plt\u001b[38;5;241m.\u001b[39mshow(\n\u001b[0;32m    213\u001b[0m             list_of_showables,\n\u001b[0;32m    214\u001b[0m             at\u001b[38;5;241m=\u001b[39mi,\n\u001b[1;32m   (...)\u001b[0m\n\u001b[0;32m    217\u001b[0m             axes\u001b[38;5;241m=\u001b[39maxes,\n\u001b[0;32m    218\u001b[0m         )\n\u001b[0;32m    220\u001b[0m \u001b[38;5;28;01mif\u001b[39;00m is_ipython:\n\u001b[1;32m--> 221\u001b[0m     \u001b[43mplt\u001b[49m\u001b[38;5;241;43m.\u001b[39;49m\u001b[43mdisplay\u001b[49m(close\u001b[38;5;241m=\u001b[39mclose)\n\u001b[0;32m    222\u001b[0m     \u001b[38;5;28;01mreturn\u001b[39;00m \u001b[38;5;28;01mNone\u001b[39;00m\n\u001b[0;32m    224\u001b[0m \u001b[38;5;28;01mif\u001b[39;00m interact \u001b[38;5;129;01mand\u001b[39;00m \u001b[38;5;129;01mnot\u001b[39;00m offs:\n\u001b[0;32m    225\u001b[0m     \u001b[38;5;66;03m# only way to ensure memory is released\u001b[39;00m\n",
      "\u001b[1;31mAttributeError\u001b[0m: 'Plotter' object has no attribute 'display'"
     ]
    }
   ],
   "source": [
    "n_lines_for_bc = 26\n",
    "offset_lines_for_bc = 0.05\n",
    "\n",
    "bounds_right = np.array([[0,0,0],[0,1,0]])\n",
    "bounds_left = np.array([[-offset_lines_for_bc,-offset_lines_for_bc,0],[-offset_lines_for_bc,1-offset_lines_for_bc,0]])\n",
    "resolutions = np.array([n_lines_for_bc,n_lines_for_bc,n_lines_for_bc])\n",
    "verts_right = gus.create.vertices.raster(bounds=bounds_right, resolutions=resolutions)\n",
    "verts_left = gus.create.vertices.raster(bounds=bounds_left, resolutions=resolutions)\n",
    "#gus.show([verts_right, verts_left])\n",
    "\n",
    "\n",
    "### clamp bc\n",
    "# fancy version\n",
    "n_v = len(verts_right.vertices) * 2\n",
    "verts_all = np.empty((n_v, verts_right.vertices.shape[1]))\n",
    "verts_all[::2] = verts_right.vertices\n",
    "verts_all[1::2] = verts_left.vertices\n",
    "dirichlet_bcs = gus.Edges(verts_all, gus.utils.connec.range_to_edges(n_v, continuous=False))\n",
    "#dirichlet_bcs.show()\n",
    "\n",
    "# noob version\n",
    "edges = []\n",
    "for vr, vl in zip(verts_right.vertices, verts_left.vertices):\n",
    "    e = gus.Edges([vr, vl], [[0,1]])\n",
    "    e.show_options[\"as_arrows\"] = True\n",
    "\n",
    "    edges.append(e)\n",
    "\n",
    "d_e = gus.Edges.concat(edges)\n",
    "d_e.show_options[\"c\"] = \"black\"\n",
    "d_e.show_options[\"lw\"] = 3\n",
    "gus.show(d_e)"
   ]
  },
  {
   "cell_type": "markdown",
   "metadata": {},
   "source": [
    "### Force Boundary Condition"
   ]
  },
  {
   "cell_type": "code",
   "execution_count": null,
   "metadata": {},
   "outputs": [],
   "source": [
    "n_arrows = 4\n",
    "l_arrows = 0.15\n",
    "area_of_application = 2/24\n",
    "\n",
    "start_arrow = np.array([[2-area_of_application,1],[2,1]])\n",
    "end_arrow = start_arrow + np.array([[0, l_arrows]])\n",
    "resolutions = np.array([n_arrows,n_arrows])\n",
    "verts_start = gus.create.vertices.raster(bounds=start_arrow, resolutions=resolutions)\n",
    "verts_end = gus.create.vertices.raster(bounds=end_arrow, resolutions=resolutions)\n",
    "#gus.show([verts_right, verts_left])\n",
    "\n",
    "a_edges = []\n",
    "for vr, vl in zip(verts_start.vertices, verts_end.vertices):\n",
    "    e = gus.Edges([vl, vr], [[0,1]])\n",
    "    a_edges.append(e)\n",
    "\n",
    "d_F = gus.Edges.concat(a_edges)\n",
    "d_F.show_options[\"as_arrows\"] = True\n",
    "d_F.show_options[\"c\"] = \"black\"\n",
    "d_F.show_options[\"lw\"] = 8"
   ]
  },
  {
   "cell_type": "code",
   "execution_count": null,
   "metadata": {},
   "outputs": [],
   "source": [
    "cam = dict(\n",
    "    position=(0.983682, 0.525180, 2.60466),\n",
    "    focal_point=(0.983682, 0.525180, 0),\n",
    "    viewup=(0, 1.00000, 0),\n",
    "    distance=2.60466,\n",
    "    clipping_range=(2.43892, 2.81956),\n",
    ")\n",
    "plt = gus.show([d_F, d_e, ms],close=True, skip_clear=True, interactive=False, size=(1900,1500), cam=cam)\n",
    "# plt.screenshot('boundary_conditions_conformal_ms.png').close()"
   ]
  }
 ],
 "metadata": {
  "kernelspec": {
   "display_name": "pytorch",
   "language": "python",
   "name": "python3"
  },
  "language_info": {
   "codemirror_mode": {
    "name": "ipython",
    "version": 3
   },
   "file_extension": ".py",
   "mimetype": "text/x-python",
   "name": "python",
   "nbconvert_exporter": "python",
   "pygments_lexer": "ipython3",
   "version": "3.11.7"
  }
 },
 "nbformat": 4,
 "nbformat_minor": 2
}
